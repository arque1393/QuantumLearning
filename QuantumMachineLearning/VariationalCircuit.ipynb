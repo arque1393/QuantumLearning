{
 "cells": [
  {
   "cell_type": "markdown",
   "metadata": {},
   "source": [
    "### Building Basic Rotational Quantum Gate"
   ]
  },
  {
   "cell_type": "markdown",
   "metadata": {},
   "source": [
    "#### General Term of Rotational Gate\n",
    "$$\n",
    "\\mathcal{U}_{(X,Y,Z)} (\\theta,\\phi, \\lambda) = \\begin{pmatrix}\n",
    "\\cos(\\theta/2)   &  -e^{j\\lambda}\\sin(\\theta/2)\\\\\n",
    "e^{j\\phi}\\sin(\\theta/2)  &  e^{j(\\lambda+\\phi)}\\cos(\\theta/2)\n",
    "\\end{pmatrix}\n",
    "$$\n",
    "\n",
    "\n",
    "$$R_X(\\theta \\; ; \\lambda=\\frac{\\pi}{2}, \\phi=-\\frac{\\pi}{2})=\n",
    "R_X(\\theta) = \\begin{pmatrix}\n",
    "\\cos(\\theta/2)&-j\\sin(\\theta/2)\\\\\n",
    "-j\\sin(\\theta/2)&-\\cos(\\theta/2)\n",
    "\\end{pmatrix}$$\n",
    "\n",
    "$$R_Y(\\theta \\;; \\lambda=0, \\phi=0)=\n",
    "R_Y(\\theta) = \\begin{pmatrix}\n",
    "\\cos(\\theta/2)&-\\sin(\\theta/2)\\\\\n",
    "\\sin(\\theta/2)&-\\cos(\\theta/2)\n",
    "\\end{pmatrix}$$\n",
    "\n",
    "$$R_Z(\\phi \\;;\\theta = 0, \\lambda=0)=\n",
    "R_Z(\\phi) = \\begin{pmatrix}\n",
    "e^{-j(\\phi/2)} & 0\\\\\n",
    "0 & e^{j(\\phi/2)}\n",
    "\\end{pmatrix}\n",
    "$$\n",
    "\n"
   ]
  },
  {
   "cell_type": "code",
   "execution_count": null,
   "metadata": {},
   "outputs": [],
   "source": []
  },
  {
   "cell_type": "code",
   "execution_count": null,
   "metadata": {},
   "outputs": [],
   "source": []
  }
 ],
 "metadata": {
  "kernelspec": {
   "display_name": "Python 3 (ipykernel)",
   "language": "python",
   "name": "python3"
  },
  "language_info": {
   "codemirror_mode": {
    "name": "ipython",
    "version": 3
   },
   "file_extension": ".py",
   "mimetype": "text/x-python",
   "name": "python",
   "nbconvert_exporter": "python",
   "pygments_lexer": "ipython3",
   "version": "3.10.9"
  },
  "vscode": {
   "interpreter": {
    "hash": "ee9c1ca9f96b68a9b9d0cf89d73342f5c4ccfb33d79619943016eec5fce8f295"
   }
  }
 },
 "nbformat": 4,
 "nbformat_minor": 4
}
