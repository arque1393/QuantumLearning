{
 "cells": [
  {
   "cell_type": "markdown",
   "id": "befdac32-4832-4c8c-9612-85bd080e237f",
   "metadata": {},
   "source": [
    "# Data Encoding "
   ]
  },
  {
   "attachments": {},
   "cell_type": "markdown",
   "id": "88006f09",
   "metadata": {},
   "source": [
    "Availabel Data coding technique are \n",
    "1. Basis Encoding\n",
    "2. Amplituted Encoding\n",
    "3. Angle encoding\n",
    "4. Higher order Encoding \n"
   ]
  },
  {
   "cell_type": "code",
   "execution_count": null,
   "id": "19ba23c1",
   "metadata": {},
   "outputs": [],
   "source": []
  }
 ],
 "metadata": {
  "kernelspec": {
   "display_name": "Python 3 (ipykernel)",
   "language": "python",
   "name": "python3"
  },
  "language_info": {
   "codemirror_mode": {
    "name": "ipython",
    "version": 3
   },
   "file_extension": ".py",
   "mimetype": "text/x-python",
   "name": "python",
   "nbconvert_exporter": "python",
   "pygments_lexer": "ipython3",
   "version": "3.10.9"
  }
 },
 "nbformat": 4,
 "nbformat_minor": 5
}
