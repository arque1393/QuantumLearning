{
 "cells": [
  {
   "cell_type": "markdown",
   "id": "88e8910e-39bf-4d19-aaab-77c9461d23e9",
   "metadata": {},
   "source": [
    "# Grover's Search Algorithm"
   ]
  },
  {
   "cell_type": "markdown",
   "id": "97f64880-18d9-46e0-8dc6-e00be8f86354",
   "metadata": {
    "tags": []
   },
   "source": [
    "### Imports Library"
   ]
  },
  {
   "cell_type": "code",
   "execution_count": 1,
   "id": "470ca35e-565b-4dee-9908-398449706718",
   "metadata": {
    "tags": []
   },
   "outputs": [],
   "source": [
    "import numpy as np \n",
    "import matplotlib.pyplot as plt\n",
    "from IPython.display import display, Latex\n",
    "%matplotlib inline"
   ]
  },
  {
   "cell_type": "code",
   "execution_count": 2,
   "id": "392a810f-1c45-410a-afbc-1a44504154e6",
   "metadata": {
    "tags": []
   },
   "outputs": [],
   "source": [
    "from qiskit import QuantumCircuit,QuantumRegister,execute, ClassicalRegister, transpile, Aer, IBMQ\n",
    "from qiskit import visualization \n",
    "from qiskit.tools import jupyter as qjupyter "
   ]
  },
  {
   "cell_type": "code",
   "execution_count": 3,
   "id": "ae82e8ce-5852-4f05-8fd5-9019670d2dda",
   "metadata": {
    "tags": []
   },
   "outputs": [],
   "source": [
    "from qiskit import assemble"
   ]
  },
  {
   "cell_type": "markdown",
   "id": "26fd24cf-2f63-4b12-9fd4-ab411d1dcfb2",
   "metadata": {
    "tags": []
   },
   "source": [
    "# Clasical Search Demo : Linear Search"
   ]
  },
  {
   "cell_type": "code",
   "execution_count": 4,
   "id": "4f74d1b6-c28e-4836-bdc9-9d7f59d7f0bd",
   "metadata": {
    "tags": []
   },
   "outputs": [],
   "source": [
    "list1=[1,2,5,9,2,0,6,3,7,15,4,13,8,12]\n",
    "def the_oracle(search_item):\n",
    "    winner=7\n",
    "    if search_item == winner:\n",
    "        return True\n",
    "    return False"
   ]
  },
  {
   "cell_type": "code",
   "execution_count": 5,
   "id": "4239a9ed-4841-42a0-bacf-054a5c41bf9a",
   "metadata": {
    "tags": []
   },
   "outputs": [
    {
     "name": "stdout",
     "output_type": "stream",
     "text": [
      "Item Found at index8\n",
      "No of Oracle Call is 9\n"
     ]
    }
   ],
   "source": [
    "for index , tryal_no in enumerate(list1):\n",
    "    if the_oracle(tryal_no):\n",
    "        print(f\"Item Found at index{index}\")\n",
    "        print(f\"No of Oracle Call is {index+1}\")\n",
    "        break\n",
    "              "
   ]
  },
  {
   "cell_type": "markdown",
   "id": "a3c535bf-b3a4-468e-9467-b2abde67e4e6",
   "metadata": {},
   "source": [
    "## Quantum Way to search an Oracle : **Grover Search Algorithm**"
   ]
  },
  {
   "cell_type": "markdown",
   "id": "f550278d-d57a-40da-8134-a52a5fbe0fc1",
   "metadata": {
    "tags": []
   },
   "source": [
    "### Define Required Functions"
   ]
  },
  {
   "cell_type": "code",
   "execution_count": 6,
   "id": "305b1540-c9c5-4c83-a931-b2f1cab8e56a",
   "metadata": {
    "tags": []
   },
   "outputs": [
    {
     "data": {
      "text/plain": [
       "array([0, 0, 0, 0, 1, 1, 1, 0])"
      ]
     },
     "execution_count": 6,
     "metadata": {},
     "output_type": "execute_result"
    }
   ],
   "source": [
    "# Converting  into binary representation\n",
    "to_bin= (lambda a,size=4 : np.array([int(i) for i in np.binary_repr(a,size)]))\n",
    "to_bin(14,8)"
   ]
  },
  {
   "cell_type": "markdown",
   "id": "2d3bf5fa-6722-40a5-b11f-08017bbf9750",
   "metadata": {
    "jp-MarkdownHeadingCollapsed": true,
    "tags": []
   },
   "source": [
    "our oracle function will be $U_w |x\\rangle  |y\\rangle = |y \\oplus f(x) \\rangle$\n",
    "\n",
    "$f(x)= 1$ for $x = w$ and  $f(x)=0$ for $x\\neq w$ "
   ]
  },
  {
   "cell_type": "code",
   "execution_count": 7,
   "id": "4a62126b-7d35-4f38-978e-e4beef6d9906",
   "metadata": {
    "tags": []
   },
   "outputs": [],
   "source": [
    "def get_oracle(n, w)->QuantumCircuit:\n",
    "    circuit = QuantumCircuit(n+1, name=\"oracle\")\n",
    "    controled0 = np.array([i for i in  range(n) if not w[i]])\n",
    "    if controled0.size>0:\n",
    "        circuit.x(controled0)\n",
    "    circuit.mct(list(range(n)), n)\n",
    "    if controled0.size>0:\n",
    "        circuit.x(controled0)\n",
    "    circuit.barrier()\n",
    "   \n",
    "    return circuit"
   ]
  },
  {
   "cell_type": "code",
   "execution_count": 8,
   "id": "280ca340-127e-49f1-9e41-763e651de148",
   "metadata": {
    "tags": []
   },
   "outputs": [],
   "source": [
    "def reflect_uniform(circuit, n):\n",
    "    circuit.h(list(range(n)))\n",
    "    circuit.x(list(range(n)))\n",
    "    circuit.mct(list(range(n)),n)\n",
    "    circuit.x(list(range(n+1)))    \n",
    "    circuit.h(list(range(n)))\n",
    "    circuit.barrier()\n",
    "    circuit.draw()  "
   ]
  },
  {
   "cell_type": "code",
   "execution_count": 9,
   "id": "68ab49fa-434f-408a-ad8c-92ce2ca7af84",
   "metadata": {
    "tags": []
   },
   "outputs": [],
   "source": [
    "def get_projection(psi, e,a ):\n",
    "    return (np.real(np.vdot(e,psi)), np.real(np.vdot(a,psi)))\n",
    "\n",
    "def plot_vector(proj,axis = [0.0,1.0,0.0,1.0]):\n",
    "    x_pos = y_pos = 0\n",
    "    x_direct,y_direct = proj\n",
    "    \n",
    "    # Creating Plot \n",
    "    fig,ax=plt.subplots()\n",
    "    ax.quiver(x_pos,y_pos,x_direct, y_direct, scale =1.0)\n",
    "    ax.axis(axis)\n",
    "    \n",
    "    plt.show()"
   ]
  },
  {
   "cell_type": "markdown",
   "id": "0af3d605-4e0a-4c24-b5bc-74096b5dfdf8",
   "metadata": {
    "tags": []
   },
   "source": [
    "### Building Grover Circuit "
   ]
  },
  {
   "cell_type": "code",
   "execution_count": 10,
   "id": "11946e90-9913-4f14-a54d-ecba00d71df4",
   "metadata": {
    "tags": []
   },
   "outputs": [
    {
     "data": {
      "text/plain": [
       "array([1, 0, 1, 1])"
      ]
     },
     "execution_count": 10,
     "metadata": {},
     "output_type": "execute_result"
    }
   ],
   "source": [
    "element = 13 # Element To Find out\n",
    "n = 4  # n qubit System \n",
    "w = np.flip(to_bin(element,n)) #  1101[13(decimal)] element is mrked (lsb to msb)\n",
    "w # Binary Representation of Element ( reversed )"
   ]
  },
  {
   "cell_type": "code",
   "execution_count": 11,
   "id": "72c7c2fd-58fe-4b39-8fc8-f7c01670f7b6",
   "metadata": {
    "tags": []
   },
   "outputs": [
    {
     "data": {
      "text/html": [
       "<pre style=\"word-wrap: normal;white-space: pre;background: #fff0;line-height: 1.1;font-family: &quot;Courier New&quot;,Courier,monospace\">           ░ ┌───┐\n",
       "q_0: ──────░─┤ H ├\n",
       "           ░ ├───┤\n",
       "q_1: ──────░─┤ H ├\n",
       "           ░ ├───┤\n",
       "q_2: ──────░─┤ H ├\n",
       "           ░ ├───┤\n",
       "q_3: ──────░─┤ H ├\n",
       "     ┌───┐ ░ ├───┤\n",
       "  x: ┤ X ├─░─┤ H ├\n",
       "     └───┘ ░ └───┘\n",
       "c: 4/═════════════\n",
       "                  </pre>"
      ],
      "text/plain": [
       "           ░ ┌───┐\n",
       "q_0: ──────░─┤ H ├\n",
       "           ░ ├───┤\n",
       "q_1: ──────░─┤ H ├\n",
       "           ░ ├───┤\n",
       "q_2: ──────░─┤ H ├\n",
       "           ░ ├───┤\n",
       "q_3: ──────░─┤ H ├\n",
       "     ┌───┐ ░ ├───┤\n",
       "  x: ┤ X ├─░─┤ H ├\n",
       "     └───┘ ░ └───┘\n",
       "c: 4/═════════════\n",
       "                  "
      ]
     },
     "execution_count": 11,
     "metadata": {},
     "output_type": "execute_result"
    }
   ],
   "source": [
    "# Define Quantum Register \n",
    "qr = QuantumRegister(n,name=\"q\")\n",
    "qr2 = QuantumRegister(1,name=\"x\")\n",
    "## Classical Register \n",
    "cr = ClassicalRegister(n,\"c\")\n",
    "## Define Circuit\n",
    "circuit = QuantumCircuit(qr,qr2,cr)\n",
    "## Appling X-gate on 'x'\n",
    "circuit.x(n)\n",
    "circuit.barrier()\n",
    "## Appling Hadamard on 4 qubits 'q_i'\n",
    "circuit.h(list(range(n+1)))\n",
    "# grover_circuit.barrier()\n",
    "circuit.draw()\n"
   ]
  },
  {
   "cell_type": "markdown",
   "id": "a2985508-8996-44f1-bf64-9b3b09bbbc9f",
   "metadata": {},
   "source": [
    "#### Executing and get state vectors"
   ]
  },
  {
   "cell_type": "code",
   "execution_count": 12,
   "id": "bc69f456-376e-46f1-83ae-0743b9ff5719",
   "metadata": {
    "tags": []
   },
   "outputs": [],
   "source": [
    "state_vector_simulator = Aer.get_backend('statevector_simulator')\n",
    "result = execute(circuit,state_vector_simulator).result()\n",
    "state_vector = result.data()['statevector']\n",
    "state_vector = state_vector.data[:2**n]\n",
    "init_state_vector = state_vector"
   ]
  },
  {
   "cell_type": "markdown",
   "id": "56072415-184c-430d-aae4-f52bade0d486",
   "metadata": {},
   "source": [
    "#### Plotting state vector "
   ]
  },
  {
   "cell_type": "code",
   "execution_count": 13,
   "id": "9520f40e-d9dd-44f4-a4c9-6ecaa1203b1c",
   "metadata": {
    "tags": []
   },
   "outputs": [
    {
     "data": {
      "text/plain": [
       "array([0., 0., 0., 0., 0., 0., 0., 0., 0., 0., 0., 0., 0., 1., 0., 0.])"
      ]
     },
     "execution_count": 13,
     "metadata": {},
     "output_type": "execute_result"
    }
   ],
   "source": [
    "ket_a = np.zeros(2**n)\n",
    "ket_a[element]=1\n",
    "ket_e = (np.ones(2**n)-ket_a)/(2**n-1)**.5\n",
    "ket_a"
   ]
  },
  {
   "cell_type": "code",
   "execution_count": 14,
   "id": "a2f5a184-392e-4994-9a34-6014fccf6ba6",
   "metadata": {
    "tags": []
   },
   "outputs": [
    {
     "data": {
      "image/png": "[encoded data removed]",
      "text/plain": [
       "<Figure size 640x480 with 1 Axes>"
      ]
     },
     "metadata": {},
     "output_type": "display_data"
    }
   ],
   "source": [
    "plot_vector(get_projection(state_vector,ket_e,ket_a))"
   ]
  },
  {
   "cell_type": "code",
   "execution_count": 15,
   "id": "c2df31e3-8d87-46a3-9fe1-1fa783917691",
   "metadata": {
    "tags": []
   },
   "outputs": [
    {
     "data": {
      "text/plain": [
       "(0.6846531968814578, 0.17677669529663692)"
      ]
     },
     "metadata": {},
     "output_type": "display_data"
    },
    {
     "name": "stderr",
     "output_type": "stream",
     "text": [
      "C:\\Users\\aritr\\AppData\\Local\\Temp\\ipykernel_9288\\3582844061.py:6: DeprecationWarning: The method ``qiskit.circuit.quantumcircuit.QuantumCircuit.mct()`` is deprecated as of qiskit 0.45.0. It will be removed no earlier than 3 months after the release date. Use QuantumCircuit.mcx as direct replacement.\n",
      "  circuit.mct(list(range(n)), n)\n",
      "C:\\Users\\aritr\\AppData\\Local\\Temp\\ipykernel_9288\\3023888432.py:4: DeprecationWarning: The method ``qiskit.circuit.quantumcircuit.QuantumCircuit.mct()`` is deprecated as of qiskit 0.45.0. It will be removed no earlier than 3 months after the release date. Use QuantumCircuit.mcx as direct replacement.\n",
      "  circuit.mct(list(range(n)),n)\n",
      "d:\\AritrA\\QC\\.qc\\Lib\\site-packages\\qiskit\\visualization\\circuit\\matplotlib.py:266: FutureWarning: The default matplotlib drawer scheme will be changed to \"iqp\" in a following release. To silence this warning, specify the current default explicitly as style=\"clifford\", or the new default as style=\"iqp\".\n",
      "  self._style, def_font_ratio = load_style(self._style)\n"
     ]
    },
    {
     "data": {
      "image/png": "[encoded data removed]",
      "text/plain": [
       "<Figure size 1040x535.111 with 1 Axes>"
      ]
     },
     "execution_count": 15,
     "metadata": {},
     "output_type": "execute_result"
    }
   ],
   "source": [
    "display(get_projection(state_vector,ket_e,ket_a))\n",
    "circuit.append(get_oracle(n,w),range(n+1))\n",
    "reflect_uniform(circuit,n)\n",
    "circuit.draw('mpl')\n"
   ]
  },
  {
   "cell_type": "code",
   "execution_count": 16,
   "id": "f0f318c3-9c93-4a13-9a91-27cb09793a51",
   "metadata": {
    "tags": []
   },
   "outputs": [
    {
     "data": {
      "image/png": "[encoded data removed]",
      "text/plain": [
       "<Figure size 432x288 with 1 Axes>"
      ]
     },
     "metadata": {},
     "output_type": "display_data"
    }
   ],
   "source": [
    "# Running Circuit\n",
    "result = execute(circuit,state_vector_simulator).result()\n",
    "state_vector = result.data()['statevector']\n",
    "state_vector = state_vector.data[:2**n]\n",
    "\n",
    "# Plot state vector\n",
    "plot_vector(get_projection(state_vector,ket_e,ket_a))"
   ]
  },
  {
   "cell_type": "code",
   "execution_count": 17,
   "id": "39de4e1a-e3c3-4c9f-a395-965c6916f1b4",
   "metadata": {
    "tags": []
   },
   "outputs": [
    {
     "data": {
      "text/html": [
       "<pre style=\"word-wrap: normal;white-space: pre;background: #fff0;line-height: 1.1;font-family: &quot;Courier New&quot;,Courier,monospace\">           ░ ┌───┐┌─────────┐┌───┐┌───┐     ┌───┐┌───┐ ░ ┌─────────┐┌───┐┌───┐»\n",
       "q_0: ──────░─┤ H ├┤0        ├┤ H ├┤ X ├──■──┤ X ├┤ H ├─░─┤0        ├┤ H ├┤ X ├»\n",
       "           ░ ├───┤│         │├───┤├───┤  │  ├───┤├───┤ ░ │         │├───┤├───┤»\n",
       "q_1: ──────░─┤ H ├┤1        ├┤ H ├┤ X ├──■──┤ X ├┤ H ├─░─┤1        ├┤ H ├┤ X ├»\n",
       "           ░ ├───┤│         │├───┤├───┤  │  ├───┤├───┤ ░ │         │├───┤├───┤»\n",
       "q_2: ──────░─┤ H ├┤2 oracle ├┤ H ├┤ X ├──■──┤ X ├┤ H ├─░─┤2 oracle ├┤ H ├┤ X ├»\n",
       "           ░ ├───┤│         │├───┤├───┤  │  ├───┤├───┤ ░ │         │├───┤├───┤»\n",
       "q_3: ──────░─┤ H ├┤3        ├┤ H ├┤ X ├──■──┤ X ├┤ H ├─░─┤3        ├┤ H ├┤ X ├»\n",
       "     ┌───┐ ░ ├───┤│         │└───┘└───┘┌─┴─┐├───┤└───┘ ░ │         │└───┘└───┘»\n",
       "  x: ┤ X ├─░─┤ H ├┤4        ├──────────┤ X ├┤ X ├──────░─┤4        ├──────────»\n",
       "     └───┘ ░ └───┘└─────────┘          └───┘└───┘      ░ └─────────┘          »\n",
       "c: 4/═════════════════════════════════════════════════════════════════════════»\n",
       "                                                                              »\n",
       "«          ┌───┐┌───┐ ░ \n",
       "«q_0: ──■──┤ X ├┤ H ├─░─\n",
       "«       │  ├───┤├───┤ ░ \n",
       "«q_1: ──■──┤ X ├┤ H ├─░─\n",
       "«       │  ├───┤├───┤ ░ \n",
       "«q_2: ──■──┤ X ├┤ H ├─░─\n",
       "«       │  ├───┤├───┤ ░ \n",
       "«q_3: ──■──┤ X ├┤ H ├─░─\n",
       "«     ┌─┴─┐├───┤└───┘ ░ \n",
       "«  x: ┤ X ├┤ X ├──────░─\n",
       "«     └───┘└───┘      ░ \n",
       "«c: 4/══════════════════\n",
       "«                       </pre>"
      ],
      "text/plain": [
       "           ░ ┌───┐┌─────────┐┌───┐┌───┐     ┌───┐┌───┐ ░ ┌─────────┐┌───┐┌───┐»\n",
       "q_0: ──────░─┤ H ├┤0        ├┤ H ├┤ X ├──■──┤ X ├┤ H ├─░─┤0        ├┤ H ├┤ X ├»\n",
       "           ░ ├───┤│         │├───┤├───┤  │  ├───┤├───┤ ░ │         │├───┤├───┤»\n",
       "q_1: ──────░─┤ H ├┤1        ├┤ H ├┤ X ├──■──┤ X ├┤ H ├─░─┤1        ├┤ H ├┤ X ├»\n",
       "           ░ ├───┤│         │├───┤├───┤  │  ├───┤├───┤ ░ │         │├───┤├───┤»\n",
       "q_2: ──────░─┤ H ├┤2 oracle ├┤ H ├┤ X ├──■──┤ X ├┤ H ├─░─┤2 oracle ├┤ H ├┤ X ├»\n",
       "           ░ ├───┤│         │├───┤├───┤  │  ├───┤├───┤ ░ │         │├───┤├───┤»\n",
       "q_3: ──────░─┤ H ├┤3        ├┤ H ├┤ X ├──■──┤ X ├┤ H ├─░─┤3        ├┤ H ├┤ X ├»\n",
       "     ┌───┐ ░ ├───┤│         │└───┘└───┘┌─┴─┐├───┤└───┘ ░ │         │└───┘└───┘»\n",
       "  x: ┤ X ├─░─┤ H ├┤4        ├──────────┤ X ├┤ X ├──────░─┤4        ├──────────»\n",
       "     └───┘ ░ └───┘└─────────┘          └───┘└───┘      ░ └─────────┘          »\n",
       "c: 4/═════════════════════════════════════════════════════════════════════════»\n",
       "                                                                              »\n",
       "«          ┌───┐┌───┐ ░ \n",
       "«q_0: ──■──┤ X ├┤ H ├─░─\n",
       "«       │  ├───┤├───┤ ░ \n",
       "«q_1: ──■──┤ X ├┤ H ├─░─\n",
       "«       │  ├───┤├───┤ ░ \n",
       "«q_2: ──■──┤ X ├┤ H ├─░─\n",
       "«       │  ├───┤├───┤ ░ \n",
       "«q_3: ──■──┤ X ├┤ H ├─░─\n",
       "«     ┌─┴─┐├───┤└───┘ ░ \n",
       "«  x: ┤ X ├┤ X ├──────░─\n",
       "«     └───┘└───┘      ░ \n",
       "«c: 4/══════════════════\n",
       "«                       "
      ]
     },
     "execution_count": 17,
     "metadata": {},
     "output_type": "execute_result"
    }
   ],
   "source": [
    "circuit.append(get_oracle(n,w), range(n+1))\n",
    "reflect_uniform(circuit,n)\n",
    "circuit.draw()"
   ]
  },
  {
   "cell_type": "code",
   "execution_count": 63,
   "id": "6d06391b-bb82-4b2a-86c8-92f5b58093fd",
   "metadata": {
    "tags": []
   },
   "outputs": [
    {
     "data": {
      "image/png": "[encoded data removed]",
      "text/plain": [
       "<Figure size 640x480 with 1 Axes>"
      ]
     },
     "metadata": {},
     "output_type": "display_data"
    }
   ],
   "source": [
    "# Running Circuit\n",
    "result = execute(circuit,state_vector_simulator).result()\n",
    "state_vector = result.data()['statevector']\n",
    "state_vector = state_vector.data[:2**n]\n",
    "\n",
    "# Plot state vector\n",
    "plot_vector(get_projection(state_vector,ket_e,ket_a))"
   ]
  },
  {
   "cell_type": "code",
   "execution_count": 64,
   "id": "76aae5c8-d794-4849-9171-27b481f17092",
   "metadata": {
    "scrolled": true,
    "tags": []
   },
   "outputs": [
    {
     "data": {
      "image/png": "[encoded data removed]",
      "text/plain": [
       "<Figure size 2377.77x535.111 with 1 Axes>"
      ]
     },
     "execution_count": 64,
     "metadata": {},
     "output_type": "execute_result"
    }
   ],
   "source": [
    "circuit.append(get_oracle(n,w),range(n+1))\n",
    "reflect_uniform(circuit,n)\n",
    "circuit.draw(fold=False)"
   ]
  },
  {
   "cell_type": "code",
   "execution_count": 20,
   "id": "8db4a29d-7549-4214-baf9-7e0adb4c94a6",
   "metadata": {
    "tags": []
   },
   "outputs": [
    {
     "data": {
      "image/png": "[encoded data removed]",
      "text/plain": [
       "<Figure size 432x288 with 1 Axes>"
      ]
     },
     "metadata": {},
     "output_type": "display_data"
    }
   ],
   "source": [
    "# Running Circuit\n",
    "\n",
    "result = execute(circuit,state_vector_simulator).result()\n",
    "state_vector = result.data()['statevector']\n",
    "state_vector = state_vector.data[:2**n]\n",
    "\n",
    "# Plot state vector\n",
    "plot_vector(get_projection(state_vector,ket_e,ket_a), axis=[-1.0,1.0,-1.0,1.0])"
   ]
  },
  {
   "cell_type": "markdown",
   "id": "58b88b4d-32c4-45a1-9908-336846224d6a",
   "metadata": {
    "tags": []
   },
   "source": [
    "## Determine the no of iteration to reflect the state vectors "
   ]
  },
  {
   "cell_type": "code",
   "execution_count": 21,
   "id": "1b7df899-1865-4424-b210-b8a48029ccdf",
   "metadata": {
    "tags": []
   },
   "outputs": [
    {
     "data": {
      "text/latex": [
       "${\\theta}_0=$0.252680 radian"
      ],
      "text/plain": [
       "<IPython.core.display.Latex object>"
      ]
     },
     "metadata": {},
     "output_type": "display_data"
    },
    {
     "data": {
      "text/latex": [
       "${\\theta}_0=$14.477512 degree"
      ],
      "text/plain": [
       "<IPython.core.display.Latex object>"
      ]
     },
     "metadata": {},
     "output_type": "display_data"
    },
    {
     "data": {
      "text/plain": [
       "2.6082688394304085"
      ]
     },
     "execution_count": 21,
     "metadata": {},
     "output_type": "execute_result"
    }
   ],
   "source": [
    "slope = get_projection( init_state_vector , ket_e, ket_a)\n",
    "slope=slope[1]/slope[0]\n",
    "theta0=np.arctan(slope)\n",
    "display(Latex('${\\\\theta}_0=$%f radian'%theta0 ))\n",
    "theta0*180/np.pi\n",
    "display(Latex('${\\\\theta}_0=$%f degree'%(theta0*180/np.pi) ))\n",
    "# (2T+1)theta0 < pi/2\n",
    "T = (np.pi/(2*theta0)-1)/2\n",
    "T"
   ]
  },
  {
   "cell_type": "markdown",
   "id": "243fe4b0-e660-4dca-91f3-a685f00c072e",
   "metadata": {
    "tags": []
   },
   "source": [
    "## Create circuit for real computer "
   ]
  },
  {
   "cell_type": "code",
   "execution_count": 23,
   "id": "a613a79c-e698-4588-9355-a507f2cce5ab",
   "metadata": {
    "tags": []
   },
   "outputs": [
    {
     "data": {
      "text/html": [
       "<pre style=\"word-wrap: normal;white-space: pre;background: #fff0;line-height: 1.1;font-family: &quot;Courier New&quot;,Courier,monospace\">           ░ ┌───┐┌─────────┐┌───┐┌───┐     ┌───┐┌───┐ ░ ┌─────────┐┌───┐┌───┐»\n",
       "q_0: ──────░─┤ H ├┤0        ├┤ H ├┤ X ├──■──┤ X ├┤ H ├─░─┤0        ├┤ H ├┤ X ├»\n",
       "           ░ ├───┤│         │├───┤├───┤  │  ├───┤├───┤ ░ │         │├───┤├───┤»\n",
       "q_1: ──────░─┤ H ├┤1        ├┤ H ├┤ X ├──■──┤ X ├┤ H ├─░─┤1        ├┤ H ├┤ X ├»\n",
       "           ░ ├───┤│         │├───┤├───┤  │  ├───┤├───┤ ░ │         │├───┤├───┤»\n",
       "q_2: ──────░─┤ H ├┤2 oracle ├┤ H ├┤ X ├──■──┤ X ├┤ H ├─░─┤2 oracle ├┤ H ├┤ X ├»\n",
       "           ░ ├───┤│         │├───┤├───┤  │  ├───┤├───┤ ░ │         │├───┤├───┤»\n",
       "q_3: ──────░─┤ H ├┤3        ├┤ H ├┤ X ├──■──┤ X ├┤ H ├─░─┤3        ├┤ H ├┤ X ├»\n",
       "     ┌───┐ ░ ├───┤│         │└───┘└───┘┌─┴─┐├───┤└───┘ ░ │         │└───┘└───┘»\n",
       "  y: ┤ X ├─░─┤ H ├┤4        ├──────────┤ X ├┤ X ├──────░─┤4        ├──────────»\n",
       "     └───┘ ░ └───┘└─────────┘          └───┘└───┘      ░ └─────────┘          »\n",
       "c: 4/═════════════════════════════════════════════════════════════════════════»\n",
       "                                                                              »\n",
       "«          ┌───┐┌───┐ ░ ┌─┐         \n",
       "«q_0: ──■──┤ X ├┤ H ├─░─┤M├─────────\n",
       "«       │  ├───┤├───┤ ░ └╥┘┌─┐      \n",
       "«q_1: ──■──┤ X ├┤ H ├─░──╫─┤M├──────\n",
       "«       │  ├───┤├───┤ ░  ║ └╥┘┌─┐   \n",
       "«q_2: ──■──┤ X ├┤ H ├─░──╫──╫─┤M├───\n",
       "«       │  ├───┤├───┤ ░  ║  ║ └╥┘┌─┐\n",
       "«q_3: ──■──┤ X ├┤ H ├─░──╫──╫──╫─┤M├\n",
       "«     ┌─┴─┐├───┤└───┘ ░  ║  ║  ║ └╥┘\n",
       "«  y: ┤ X ├┤ X ├──────░──╫──╫──╫──╫─\n",
       "«     └───┘└───┘      ░  ║  ║  ║  ║ \n",
       "«c: 4/═══════════════════╩══╩══╩══╩═\n",
       "«                        0  1  2  3 </pre>"
      ],
      "text/plain": [
       "           ░ ┌───┐┌─────────┐┌───┐┌───┐     ┌───┐┌───┐ ░ ┌─────────┐┌───┐┌───┐»\n",
       "q_0: ──────░─┤ H ├┤0        ├┤ H ├┤ X ├──■──┤ X ├┤ H ├─░─┤0        ├┤ H ├┤ X ├»\n",
       "           ░ ├───┤│         │├───┤├───┤  │  ├───┤├───┤ ░ │         │├───┤├───┤»\n",
       "q_1: ──────░─┤ H ├┤1        ├┤ H ├┤ X ├──■──┤ X ├┤ H ├─░─┤1        ├┤ H ├┤ X ├»\n",
       "           ░ ├───┤│         │├───┤├───┤  │  ├───┤├───┤ ░ │         │├───┤├───┤»\n",
       "q_2: ──────░─┤ H ├┤2 oracle ├┤ H ├┤ X ├──■──┤ X ├┤ H ├─░─┤2 oracle ├┤ H ├┤ X ├»\n",
       "           ░ ├───┤│         │├───┤├───┤  │  ├───┤├───┤ ░ │         │├───┤├───┤»\n",
       "q_3: ──────░─┤ H ├┤3        ├┤ H ├┤ X ├──■──┤ X ├┤ H ├─░─┤3        ├┤ H ├┤ X ├»\n",
       "     ┌───┐ ░ ├───┤│         │└───┘└───┘┌─┴─┐├───┤└───┘ ░ │         │└───┘└───┘»\n",
       "  y: ┤ X ├─░─┤ H ├┤4        ├──────────┤ X ├┤ X ├──────░─┤4        ├──────────»\n",
       "     └───┘ ░ └───┘└─────────┘          └───┘└───┘      ░ └─────────┘          »\n",
       "c: 4/═════════════════════════════════════════════════════════════════════════»\n",
       "                                                                              »\n",
       "«          ┌───┐┌───┐ ░ ┌─┐         \n",
       "«q_0: ──■──┤ X ├┤ H ├─░─┤M├─────────\n",
       "«       │  ├───┤├───┤ ░ └╥┘┌─┐      \n",
       "«q_1: ──■──┤ X ├┤ H ├─░──╫─┤M├──────\n",
       "«       │  ├───┤├───┤ ░  ║ └╥┘┌─┐   \n",
       "«q_2: ──■──┤ X ├┤ H ├─░──╫──╫─┤M├───\n",
       "«       │  ├───┤├───┤ ░  ║  ║ └╥┘┌─┐\n",
       "«q_3: ──■──┤ X ├┤ H ├─░──╫──╫──╫─┤M├\n",
       "«     ┌─┴─┐├───┤└───┘ ░  ║  ║  ║ └╥┘\n",
       "«  y: ┤ X ├┤ X ├──────░──╫──╫──╫──╫─\n",
       "«     └───┘└───┘      ░  ║  ║  ║  ║ \n",
       "«c: 4/═══════════════════╩══╩══╩══╩═\n",
       "«                        0  1  2  3 "
      ]
     },
     "execution_count": 23,
     "metadata": {},
     "output_type": "execute_result"
    }
   ],
   "source": [
    "# numbr of qubit\n",
    "n = 4           \n",
    "# searching element \n",
    "element = 13    # 0 to 15\n",
    "\n",
    "qr = QuantumRegister(n,name=\"q\")\n",
    "qr2 = QuantumRegister(1,\"y\")\n",
    "\n",
    "cr = ClassicalRegister(n,\"c\")\n",
    "grover_circuit = QuantumCircuit(qr,qr2,cr)\n",
    "\n",
    "w = np.flip(to_bin(element)) \n",
    "\n",
    "grover_circuit.x(n)\n",
    "grover_circuit.barrier()\n",
    "grover_circuit.h(list(range(n+1)))\n",
    "\n",
    "\n",
    "for i in range(int(np.floor(T))):\n",
    "    grover_circuit.append(get_oracle(n, w),range(n+1))\n",
    "    reflect_uniform(grover_circuit, n)\n",
    "    \n",
    "for j in range(n):\n",
    "    \n",
    "    grover_circuit.measure(j,j)\n",
    "     \n",
    "grover_circuit.draw(fold=False)"
   ]
  },
  {
   "cell_type": "code",
   "execution_count": 24,
   "id": "8ca26496-94e5-42aa-b5ce-7f1c7e621375",
   "metadata": {
    "tags": []
   },
   "outputs": [
    {
     "data": {
      "text/plain": [
       "{'0100': 6,\n",
       " '1100': 4,\n",
       " '0001': 4,\n",
       " '1101': 933,\n",
       " '1011': 7,\n",
       " '0011': 5,\n",
       " '0111': 8,\n",
       " '1010': 9,\n",
       " '1111': 7,\n",
       " '1110': 5,\n",
       " '0000': 8,\n",
       " '0010': 6,\n",
       " '0110': 5,\n",
       " '1000': 8,\n",
       " '0101': 6,\n",
       " '1001': 3}"
      ]
     },
     "execution_count": 24,
     "metadata": {},
     "output_type": "execute_result"
    }
   ],
   "source": [
    "qasm_simulator = Aer.get_backend(\"qasm_simulator\")\n",
    "result = execute(grover_circuit,qasm_simulator).result()\n",
    "counts = result.get_counts(grover_circuit)\n",
    "\n",
    "counts"
   ]
  },
  {
   "cell_type": "code",
   "execution_count": 69,
   "id": "6f97c4b8-9642-40d1-9fad-559ccea19d09",
   "metadata": {
    "tags": []
   },
   "outputs": [
    {
     "data": {
      "image/png": "[encoded data removed]",
      "text/plain": [
       "<Figure size 700x500 with 1 Axes>"
      ]
     },
     "execution_count": 69,
     "metadata": {},
     "output_type": "execute_result"
    }
   ],
   "source": [
    "visualization.plot_histogram(counts)"
   ]
  },
  {
   "cell_type": "code",
   "execution_count": null,
   "id": "52504f98-f4e1-4b3f-b3ff-ae4273956c08",
   "metadata": {},
   "outputs": [],
   "source": []
  },
  {
   "cell_type": "code",
   "execution_count": null,
   "id": "1318ed92-9c26-49e3-a68c-e45235a636b9",
   "metadata": {},
   "outputs": [],
   "source": []
  },
  {
   "cell_type": "code",
   "execution_count": null,
   "id": "e986d480-8a2c-407d-bd4c-f365e68fcd23",
   "metadata": {},
   "outputs": [],
   "source": []
  },
  {
   "cell_type": "code",
   "execution_count": null,
   "id": "e05b4077-cb80-4e59-b827-edd1e3a5505e",
   "metadata": {},
   "outputs": [],
   "source": []
  },
  {
   "cell_type": "code",
   "execution_count": null,
   "id": "b8e3181f-f0e5-4073-b5f3-d3c835957ca6",
   "metadata": {},
   "outputs": [],
   "source": []
  },
  {
   "cell_type": "code",
   "execution_count": null,
   "id": "bd1d147d-8338-451f-be2e-a9ab790bb718",
   "metadata": {},
   "outputs": [],
   "source": []
  },
  {
   "cell_type": "code",
   "execution_count": null,
   "id": "11054dfa-f3cd-4f5f-82af-b81f6b441bbd",
   "metadata": {},
   "outputs": [],
   "source": []
  }
 ],
 "metadata": {
  "kernelspec": {
   "display_name": "Python 3 (Spyder)",
   "language": "python3",
   "name": "python3"
  },
  "language_info": {
   "codemirror_mode": {
    "name": "ipython",
    "version": 3
   },
   "file_extension": ".py",
   "mimetype": "text/x-python",
   "name": "python",
   "nbconvert_exporter": "python",
   "pygments_lexer": "ipython3",
   "version": "3.11.7"
  },
  "widgets": {
   "application/vnd.jupyter.widget-state+json": {
    "state": {
     "186f501fff984bce9b31cfb50fabb756": {
      "model_module": "@jupyter-widgets/controls",
      "model_module_version": "2.0.0",
      "model_name": "HTMLStyleModel",
      "state": {
       "description_width": "",
       "font_size": null,
       "text_color": null
      }
     },
     "2e344eeed2c944b9b8e1de1a1e5228ac": {
      "model_module": "@jupyter-widgets/controls",
      "model_module_version": "2.0.0",
      "model_name": "HTMLStyleModel",
      "state": {
       "description_width": "",
       "font_size": null,
       "text_color": null
      }
     },
     "304f9a1451eb4119bbba894bcbba3e8b": {
      "model_module": "@jupyter-widgets/base",
      "model_module_version": "2.0.0",
      "model_name": "LayoutModel",
      "state": {
       "width": "95px"
      }
     },
     "3fb4207e8991471f990c42766d58c0df": {
      "model_module": "@jupyter-widgets/controls",
      "model_module_version": "2.0.0",
      "model_name": "HTMLModel",
      "state": {
       "layout": "IPY_MODEL_304f9a1451eb4119bbba894bcbba3e8b",
       "style": "IPY_MODEL_c1608d1b2c9c4afaa58baefbde8807ef",
       "value": "<h5>Status</h5>"
      }
     },
     "4417ad96f5f8419db9f8b9a59912f118": {
      "model_module": "@jupyter-widgets/controls",
      "model_module_version": "2.0.0",
      "model_name": "GridBoxModel",
      "state": {
       "children": [
        "IPY_MODEL_db768421b1d149339c80d8c7edcba232"
       ],
       "layout": "IPY_MODEL_54bac6b5f9b94287a444678992b6843f"
      }
     },
     "48c6df59ee4f46b9a134e41919c2b0fb": {
      "model_module": "@jupyter-widgets/base",
      "model_module_version": "2.0.0",
      "model_name": "LayoutModel",
      "state": {
       "grid_area": "right",
       "padding": "0px 0px 0px 0px",
       "width": "70px"
      }
     },
     "4d5d4f05a2534a9c83f4e96450ce1a69": {
      "model_module": "@jupyter-widgets/controls",
      "model_module_version": "2.0.0",
      "model_name": "HTMLModel",
      "state": {
       "layout": "IPY_MODEL_833ee85a4f8e4d76a957a6e5bc5a5888",
       "style": "IPY_MODEL_d5690b4de5b847f6b7ed6828bd526616",
       "value": "<h5>Message</h5>"
      }
     },
     "4f49241de19b463481e040dd4c6031c9": {
      "model_module": "@jupyter-widgets/controls",
      "model_module_version": "2.0.0",
      "model_name": "HTMLModel",
      "state": {
       "layout": "IPY_MODEL_74afd6e0f9bf4020bde021b5591bdfaf",
       "style": "IPY_MODEL_2e344eeed2c944b9b8e1de1a1e5228ac",
       "value": "<h5>Backend</h5>"
      }
     },
     "54bac6b5f9b94287a444678992b6843f": {
      "model_module": "@jupyter-widgets/base",
      "model_module_version": "2.0.0",
      "model_name": "LayoutModel",
      "state": {
       "grid_template_areas": "\n                                       \". . . . right \"\n                                        ",
       "grid_template_columns": "20% 20% 20% 20% 20%",
       "width": "100%"
      }
     },
     "74afd6e0f9bf4020bde021b5591bdfaf": {
      "model_module": "@jupyter-widgets/base",
      "model_module_version": "2.0.0",
      "model_name": "LayoutModel",
      "state": {
       "width": "145px"
      }
     },
     "7a839992102b4dbca7651bd9eca432d4": {
      "model_module": "@jupyter-widgets/controls",
      "model_module_version": "2.0.0",
      "model_name": "HTMLModel",
      "state": {
       "layout": "IPY_MODEL_a230389756f2487190df9362c1c12b3b",
       "style": "IPY_MODEL_186f501fff984bce9b31cfb50fabb756",
       "value": "<h5>Queue</h5>"
      }
     },
     "833ee85a4f8e4d76a957a6e5bc5a5888": {
      "model_module": "@jupyter-widgets/base",
      "model_module_version": "2.0.0",
      "model_name": "LayoutModel",
      "state": {}
     },
     "a230389756f2487190df9362c1c12b3b": {
      "model_module": "@jupyter-widgets/base",
      "model_module_version": "2.0.0",
      "model_name": "LayoutModel",
      "state": {
       "width": "70px"
      }
     },
     "a8ac97a6f1d14cee9beac65b72a01bcc": {
      "model_module": "@jupyter-widgets/controls",
      "model_module_version": "2.0.0",
      "model_name": "HBoxModel",
      "state": {
       "children": [
        "IPY_MODEL_e67a69e3f22b4d6fb91fcfa59320e78c",
        "IPY_MODEL_4f49241de19b463481e040dd4c6031c9",
        "IPY_MODEL_3fb4207e8991471f990c42766d58c0df",
        "IPY_MODEL_7a839992102b4dbca7651bd9eca432d4",
        "IPY_MODEL_4d5d4f05a2534a9c83f4e96450ce1a69"
       ],
       "layout": "IPY_MODEL_daeeda424ed844de8571d9228412247a"
      }
     },
     "c1608d1b2c9c4afaa58baefbde8807ef": {
      "model_module": "@jupyter-widgets/controls",
      "model_module_version": "2.0.0",
      "model_name": "HTMLStyleModel",
      "state": {
       "description_width": "",
       "font_size": null,
       "text_color": null
      }
     },
     "c7eae5ed0a5f446caeb7c65d1dad2814": {
      "model_module": "@jupyter-widgets/base",
      "model_module_version": "2.0.0",
      "model_name": "LayoutModel",
      "state": {
       "width": "190px"
      }
     },
     "c98a4f091d6d4d2d96c5b98dab863c0c": {
      "model_module": "@jupyter-widgets/controls",
      "model_module_version": "2.0.0",
      "model_name": "HTMLStyleModel",
      "state": {
       "description_width": "",
       "font_size": null,
       "text_color": null
      }
     },
     "d5690b4de5b847f6b7ed6828bd526616": {
      "model_module": "@jupyter-widgets/controls",
      "model_module_version": "2.0.0",
      "model_name": "HTMLStyleModel",
      "state": {
       "description_width": "",
       "font_size": null,
       "text_color": null
      }
     },
     "daeeda424ed844de8571d9228412247a": {
      "model_module": "@jupyter-widgets/base",
      "model_module_version": "2.0.0",
      "model_name": "LayoutModel",
      "state": {
       "margin": "0px 0px 0px 37px",
       "width": "600px"
      }
     },
     "db768421b1d149339c80d8c7edcba232": {
      "model_module": "@jupyter-widgets/controls",
      "model_module_version": "2.0.0",
      "model_name": "ButtonModel",
      "state": {
       "button_style": "primary",
       "description": "Clear",
       "layout": "IPY_MODEL_48c6df59ee4f46b9a134e41919c2b0fb",
       "style": "IPY_MODEL_eebd5896c3f34e739a7c06c9074d6a8a",
       "tooltip": null
      }
     },
     "e46aae3d34d04491b1cc7a728a0a0f1a": {
      "model_module": "@jupyter-widgets/base",
      "model_module_version": "2.0.0",
      "model_name": "LayoutModel",
      "state": {
       "margin": "0px 0px 10px 0px"
      }
     },
     "e67a69e3f22b4d6fb91fcfa59320e78c": {
      "model_module": "@jupyter-widgets/controls",
      "model_module_version": "2.0.0",
      "model_name": "HTMLModel",
      "state": {
       "layout": "IPY_MODEL_c7eae5ed0a5f446caeb7c65d1dad2814",
       "style": "IPY_MODEL_c98a4f091d6d4d2d96c5b98dab863c0c",
       "value": "<h5>Job ID</h5>"
      }
     },
     "eebd5896c3f34e739a7c06c9074d6a8a": {
      "model_module": "@jupyter-widgets/controls",
      "model_module_version": "2.0.0",
      "model_name": "ButtonStyleModel",
      "state": {
       "font_family": null,
       "font_size": null,
       "font_style": null,
       "font_variant": null,
       "font_weight": null,
       "text_color": null,
       "text_decoration": null
      }
     },
     "eef18f74b4af45c6ae92fcbacdbe9fec": {
      "model_module": "@jupyter-widgets/controls",
      "model_module_version": "2.0.0",
      "model_name": "HTMLStyleModel",
      "state": {
       "description_width": "",
       "font_size": null,
       "text_color": null
      }
     },
     "f9e1161524144b83afb565935cecd1ae": {
      "model_module": "@jupyter-widgets/controls",
      "model_module_version": "2.0.0",
      "model_name": "HTMLModel",
      "state": {
       "layout": "IPY_MODEL_e46aae3d34d04491b1cc7a728a0a0f1a",
       "style": "IPY_MODEL_eef18f74b4af45c6ae92fcbacdbe9fec",
       "value": "<p style='font-family: IBM Plex Sans, Arial, Helvetica, sans-serif; font-size: 20px; font-weight: medium;'>Circuit Properties</p>"
      }
     }
    },
    "version_major": 2,
    "version_minor": 0
   }
  }
 },
 "nbformat": 4,
 "nbformat_minor": 5
}
