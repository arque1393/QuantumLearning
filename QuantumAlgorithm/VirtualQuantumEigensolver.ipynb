{
 "cells": [
  {
   "cell_type": "markdown",
   "id": "b80b38ea-d737-46eb-a3a0-c2d24c47e94b",
   "metadata": {},
   "source": [
    "# Virtual Quantum Eigensolver"
   ]
  },
  {
   "cell_type": "markdown",
   "id": "9a351d79-9346-4b7b-a40f-18f86b71fad2",
   "metadata": {},
   "source": [
    "### Module import "
   ]
  },
  {
   "cell_type": "code",
   "execution_count": 2,
   "id": "b6072467-78b5-4035-a599-67414f6a13ae",
   "metadata": {
    "tags": []
   },
   "outputs": [],
   "source": [
    "from qiskit import quantum_info as qi \n",
    "from qiskit.circuit.library import FourierChecking\n",
    "from qiskit.visualization import plot_histogram"
   ]
  },
  {
   "cell_type": "code",
   "execution_count": 3,
   "id": "c990d1dd-6e88-4a64-aede-b6817f7e8519",
   "metadata": {
    "tags": []
   },
   "outputs": [],
   "source": [
    "import numpy as np\n",
    "import matplotlib.pyplot as plt"
   ]
  },
  {
   "cell_type": "code",
   "execution_count": 8,
   "id": "f89550b6-889d-4908-8868-bef91a0eaa57",
   "metadata": {
    "tags": []
   },
   "outputs": [],
   "source": [
    "f=[1,-1,-1,-1]\n",
    "g=[1,1,-1,-1]"
   ]
  },
  {
   "cell_type": "code",
   "execution_count": 11,
   "id": "24d48aba-3112-453c-a814-10191aa467f3",
   "metadata": {
    "tags": []
   },
   "outputs": [
    {
     "data": {
      "image/png": "[encoded data removed]",
      "text/plain": [
       "<Figure size 705.35x200.667 with 1 Axes>"
      ]
     },
     "execution_count": 11,
     "metadata": {},
     "output_type": "execute_result"
    }
   ],
   "source": [
    "circuit = FourierChecking(f=f,g=g)\n",
    "decomposed_circuit = circuit.decompose()\n",
    "decomposed_circuit.draw()"
   ]
  },
  {
   "cell_type": "code",
   "execution_count": 12,
   "id": "cbf9885e-8bff-4f3f-9eab-f5ffb8c6ce33",
   "metadata": {
    "tags": []
   },
   "outputs": [
    {
     "data": {
      "image/png": "[encoded data removed]",
      "text/plain": [
       "<Figure size 700x500 with 1 Axes>"
      ]
     },
     "execution_count": 12,
     "metadata": {},
     "output_type": "execute_result"
    }
   ],
   "source": [
    "zero = qi.Statevector.from_label('00')\n",
    "state_vector = zero.evolve(circuit)\n",
    "probs = state_vector.probabilities_dict()\n",
    "plot_histogram(probs)"
   ]
  },
  {
   "cell_type": "code",
   "execution_count": null,
   "id": "1ab03189-e528-48a0-aa4f-d7f984540e87",
   "metadata": {},
   "outputs": [],
   "source": []
  }
 ],
 "metadata": {
  "kernelspec": {
   "display_name": "Python 3 (ipykernel)",
   "language": "python",
   "name": "python3"
  },
  "language_info": {
   "codemirror_mode": {
    "name": "ipython",
    "version": 3
   },
   "file_extension": ".py",
   "mimetype": "text/x-python",
   "name": "python",
   "nbconvert_exporter": "python",
   "pygments_lexer": "ipython3",
   "version": "3.10.8"
  },
  "widgets": {
   "application/vnd.jupyter.widget-state+json": {
    "state": {
     "16dc18aa98f84d5c888ee29606febc36": {
      "model_module": "@jupyter-widgets/base",
      "model_module_version": "2.0.0",
      "model_name": "LayoutModel",
      "state": {
       "width": "145px"
      }
     },
     "27dfe3d55b6f44cdbd21c9cad5229769": {
      "model_module": "@jupyter-widgets/base",
      "model_module_version": "2.0.0",
      "model_name": "LayoutModel",
      "state": {
       "width": "190px"
      }
     },
     "2a7b31cfd50c49c5b561a4c4dafb8f12": {
      "model_module": "@jupyter-widgets/controls",
      "model_module_version": "2.0.0",
      "model_name": "HTMLStyleModel",
      "state": {
       "description_width": "",
       "font_size": null,
       "text_color": null
      }
     },
     "2d9ea6b138d14849832f733f9d782eba": {
      "model_module": "@jupyter-widgets/controls",
      "model_module_version": "2.0.0",
      "model_name": "GridBoxModel",
      "state": {
       "children": [
        "IPY_MODEL_410100ef985341878a1fa6920bc8319c"
       ],
       "layout": "IPY_MODEL_7f8d14802ab74744a2f8058f295fe34f"
      }
     },
     "3b863d1a775e458fba0f182d41beaffc": {
      "model_module": "@jupyter-widgets/controls",
      "model_module_version": "2.0.0",
      "model_name": "HTMLModel",
      "state": {
       "layout": "IPY_MODEL_79dea3890f8943c0bc6da20c75549446",
       "style": "IPY_MODEL_988900e65553452087b203c11067ab28",
       "value": "<h5>Message</h5>"
      }
     },
     "410100ef985341878a1fa6920bc8319c": {
      "model_module": "@jupyter-widgets/controls",
      "model_module_version": "2.0.0",
      "model_name": "ButtonModel",
      "state": {
       "button_style": "primary",
       "description": "Clear",
       "layout": "IPY_MODEL_8d7ed26638494534aa884d34a9e36c55",
       "style": "IPY_MODEL_8ecde2b86ba343a3afbbca920fec9bdf",
       "tooltip": null
      }
     },
     "45c5c360a36b4885a464c819b4591028": {
      "model_module": "@jupyter-widgets/controls",
      "model_module_version": "2.0.0",
      "model_name": "HTMLModel",
      "state": {
       "layout": "IPY_MODEL_adb5ccefbec647d6b9868ca1027ad11f",
       "style": "IPY_MODEL_e0898587f14e44c5aa62ab34465ae406",
       "value": "<h5>Queue</h5>"
      }
     },
     "6204c5389937441f9c449eba1fe2c14c": {
      "model_module": "@jupyter-widgets/base",
      "model_module_version": "2.0.0",
      "model_name": "LayoutModel",
      "state": {
       "width": "95px"
      }
     },
     "6258fa317c8b4d1bba69377662cc5ae9": {
      "model_module": "@jupyter-widgets/controls",
      "model_module_version": "2.0.0",
      "model_name": "HTMLStyleModel",
      "state": {
       "description_width": "",
       "font_size": null,
       "text_color": null
      }
     },
     "64cf58f6495f4b96aeac05f7e6627f8b": {
      "model_module": "@jupyter-widgets/base",
      "model_module_version": "2.0.0",
      "model_name": "LayoutModel",
      "state": {
       "margin": "0px 0px 0px 37px",
       "width": "600px"
      }
     },
     "6d571b9017974da48f396f4c29213130": {
      "model_module": "@jupyter-widgets/base",
      "model_module_version": "2.0.0",
      "model_name": "LayoutModel",
      "state": {
       "margin": "0px 0px 10px 0px"
      }
     },
     "79dea3890f8943c0bc6da20c75549446": {
      "model_module": "@jupyter-widgets/base",
      "model_module_version": "2.0.0",
      "model_name": "LayoutModel",
      "state": {}
     },
     "7f7f8f2bda3e4affaf7f4c3156d1471c": {
      "model_module": "@jupyter-widgets/controls",
      "model_module_version": "2.0.0",
      "model_name": "HBoxModel",
      "state": {
       "children": [
        "IPY_MODEL_eb5d2425bc4b42d2a260daa8ea0d7b1e",
        "IPY_MODEL_809618f21061477886223b9e75f56061",
        "IPY_MODEL_89dac7c824fb4f33ba86312a83ae1544",
        "IPY_MODEL_45c5c360a36b4885a464c819b4591028",
        "IPY_MODEL_3b863d1a775e458fba0f182d41beaffc"
       ],
       "layout": "IPY_MODEL_64cf58f6495f4b96aeac05f7e6627f8b"
      }
     },
     "7f8d14802ab74744a2f8058f295fe34f": {
      "model_module": "@jupyter-widgets/base",
      "model_module_version": "2.0.0",
      "model_name": "LayoutModel",
      "state": {
       "grid_template_areas": "\n                                       \". . . . right \"\n                                        ",
       "grid_template_columns": "20% 20% 20% 20% 20%",
       "width": "100%"
      }
     },
     "809618f21061477886223b9e75f56061": {
      "model_module": "@jupyter-widgets/controls",
      "model_module_version": "2.0.0",
      "model_name": "HTMLModel",
      "state": {
       "layout": "IPY_MODEL_16dc18aa98f84d5c888ee29606febc36",
       "style": "IPY_MODEL_e9567489f9bb40d2b3a0a5337e718bef",
       "value": "<h5>Backend</h5>"
      }
     },
     "82ebd535f54245a5b7b5ec6374736661": {
      "model_module": "@jupyter-widgets/controls",
      "model_module_version": "2.0.0",
      "model_name": "HTMLModel",
      "state": {
       "layout": "IPY_MODEL_6d571b9017974da48f396f4c29213130",
       "style": "IPY_MODEL_2a7b31cfd50c49c5b561a4c4dafb8f12",
       "value": "<p style='font-family: IBM Plex Sans, Arial, Helvetica, sans-serif; font-size: 20px; font-weight: medium;'>Circuit Properties</p>"
      }
     },
     "89dac7c824fb4f33ba86312a83ae1544": {
      "model_module": "@jupyter-widgets/controls",
      "model_module_version": "2.0.0",
      "model_name": "HTMLModel",
      "state": {
       "layout": "IPY_MODEL_6204c5389937441f9c449eba1fe2c14c",
       "style": "IPY_MODEL_c92e4112c7504b3fb5ee9633fe7b12e7",
       "value": "<h5>Status</h5>"
      }
     },
     "8d7ed26638494534aa884d34a9e36c55": {
      "model_module": "@jupyter-widgets/base",
      "model_module_version": "2.0.0",
      "model_name": "LayoutModel",
      "state": {
       "grid_area": "right",
       "padding": "0px 0px 0px 0px",
       "width": "70px"
      }
     },
     "8ecde2b86ba343a3afbbca920fec9bdf": {
      "model_module": "@jupyter-widgets/controls",
      "model_module_version": "2.0.0",
      "model_name": "ButtonStyleModel",
      "state": {
       "font_family": null,
       "font_size": null,
       "font_style": null,
       "font_variant": null,
       "font_weight": null,
       "text_color": null,
       "text_decoration": null
      }
     },
     "988900e65553452087b203c11067ab28": {
      "model_module": "@jupyter-widgets/controls",
      "model_module_version": "2.0.0",
      "model_name": "HTMLStyleModel",
      "state": {
       "description_width": "",
       "font_size": null,
       "text_color": null
      }
     },
     "adb5ccefbec647d6b9868ca1027ad11f": {
      "model_module": "@jupyter-widgets/base",
      "model_module_version": "2.0.0",
      "model_name": "LayoutModel",
      "state": {
       "width": "70px"
      }
     },
     "c92e4112c7504b3fb5ee9633fe7b12e7": {
      "model_module": "@jupyter-widgets/controls",
      "model_module_version": "2.0.0",
      "model_name": "HTMLStyleModel",
      "state": {
       "description_width": "",
       "font_size": null,
       "text_color": null
      }
     },
     "e0898587f14e44c5aa62ab34465ae406": {
      "model_module": "@jupyter-widgets/controls",
      "model_module_version": "2.0.0",
      "model_name": "HTMLStyleModel",
      "state": {
       "description_width": "",
       "font_size": null,
       "text_color": null
      }
     },
     "e9567489f9bb40d2b3a0a5337e718bef": {
      "model_module": "@jupyter-widgets/controls",
      "model_module_version": "2.0.0",
      "model_name": "HTMLStyleModel",
      "state": {
       "description_width": "",
       "font_size": null,
       "text_color": null
      }
     },
     "eb5d2425bc4b42d2a260daa8ea0d7b1e": {
      "model_module": "@jupyter-widgets/controls",
      "model_module_version": "2.0.0",
      "model_name": "HTMLModel",
      "state": {
       "layout": "IPY_MODEL_27dfe3d55b6f44cdbd21c9cad5229769",
       "style": "IPY_MODEL_6258fa317c8b4d1bba69377662cc5ae9",
       "value": "<h5>Job ID</h5>"
      }
     }
    },
    "version_major": 2,
    "version_minor": 0
   }
  }
 },
 "nbformat": 4,
 "nbformat_minor": 5
}
