{
 "cells": [
  {
   "cell_type": "code",
   "execution_count": 1,
   "id": "02c48d70-bb8a-4ed9-9ea6-4af2adaf85ed",
   "metadata": {
    "tags": []
   },
   "outputs": [],
   "source": []
  },
  {
   "cell_type": "code",
   "execution_count": null,
   "id": "128704d2-14d4-4ce8-8a51-4443e6d79019",
   "metadata": {},
   "outputs": [],
   "source": []
  }
 ],
 "metadata": {
  "kernelspec": {
   "display_name": "Python 3 (ipykernel)",
   "language": "python",
   "name": "python3"
  },
  "language_info": {
   "codemirror_mode": {
    "name": "ipython",
    "version": 3
   },
   "file_extension": ".py",
   "mimetype": "text/x-python",
   "name": "python",
   "nbconvert_exporter": "python",
   "pygments_lexer": "ipython3",
   "version": "3.10.8"
  },
  "widgets": {
   "application/vnd.jupyter.widget-state+json": {
    "state": {
     "045ac0fb254f4b0ebe2d530f34c5970a": {
      "model_module": "@jupyter-widgets/controls",
      "model_module_version": "2.0.0",
      "model_name": "GridBoxModel",
      "state": {
       "children": [
        "IPY_MODEL_f8e3fa908033430aa26ea26195e512ec"
       ],
       "layout": "IPY_MODEL_400e9994b089483fb5c7f5e9cc0aca07"
      }
     },
     "05281594d80b4684bbab9d3100453d01": {
      "model_module": "@jupyter-widgets/controls",
      "model_module_version": "2.0.0",
      "model_name": "HTMLModel",
      "state": {
       "layout": "IPY_MODEL_97db22924f4e46f9843a5fe8c64df53f",
       "style": "IPY_MODEL_2ffc46a8ea56460d9b1658860b37517b",
       "value": "<h5>Message</h5>"
      }
     },
     "08580d9ef28b4e59b44dad89a81ed2be": {
      "model_module": "@jupyter-widgets/controls",
      "model_module_version": "2.0.0",
      "model_name": "HBoxModel",
      "state": {
       "children": [
        "IPY_MODEL_c4cda939df514cd4b5c7de5cb0f40ec2",
        "IPY_MODEL_f84e9677c4b945cc95f047befd715e6f",
        "IPY_MODEL_8490ca93308a4a9186c3a11a7ba7b477",
        "IPY_MODEL_9ebd063956af42f7a99839be92ba0318",
        "IPY_MODEL_05281594d80b4684bbab9d3100453d01"
       ],
       "layout": "IPY_MODEL_5c4228f0bb0b4797a73972ba3912faa9"
      }
     },
     "122891c17723492b93b88875d216cbc9": {
      "model_module": "@jupyter-widgets/controls",
      "model_module_version": "2.0.0",
      "model_name": "HTMLStyleModel",
      "state": {
       "description_width": "",
       "font_size": null,
       "text_color": null
      }
     },
     "29067b74e4314b7c8c7acbe98eca4b4b": {
      "model_module": "@jupyter-widgets/base",
      "model_module_version": "2.0.0",
      "model_name": "LayoutModel",
      "state": {
       "width": "190px"
      }
     },
     "2ffc46a8ea56460d9b1658860b37517b": {
      "model_module": "@jupyter-widgets/controls",
      "model_module_version": "2.0.0",
      "model_name": "HTMLStyleModel",
      "state": {
       "description_width": "",
       "font_size": null,
       "text_color": null
      }
     },
     "400e9994b089483fb5c7f5e9cc0aca07": {
      "model_module": "@jupyter-widgets/base",
      "model_module_version": "2.0.0",
      "model_name": "LayoutModel",
      "state": {
       "grid_template_areas": "\n                                       \". . . . right \"\n                                        ",
       "grid_template_columns": "20% 20% 20% 20% 20%",
       "width": "100%"
      }
     },
     "5c4228f0bb0b4797a73972ba3912faa9": {
      "model_module": "@jupyter-widgets/base",
      "model_module_version": "2.0.0",
      "model_name": "LayoutModel",
      "state": {
       "margin": "0px 0px 0px 37px",
       "width": "600px"
      }
     },
     "614bc1819d094531a63521367f5a4e00": {
      "model_module": "@jupyter-widgets/controls",
      "model_module_version": "2.0.0",
      "model_name": "HTMLStyleModel",
      "state": {
       "description_width": "",
       "font_size": null,
       "text_color": null
      }
     },
     "665a62f579dd4d93b7cdec2dc1591d6f": {
      "model_module": "@jupyter-widgets/base",
      "model_module_version": "2.0.0",
      "model_name": "LayoutModel",
      "state": {
       "width": "145px"
      }
     },
     "668bcb3d7cef42fab20d015d932fd1ef": {
      "model_module": "@jupyter-widgets/controls",
      "model_module_version": "2.0.0",
      "model_name": "HTMLStyleModel",
      "state": {
       "description_width": "",
       "font_size": null,
       "text_color": null
      }
     },
     "70c8be8750e649bc810eb7f7dbed62a8": {
      "model_module": "@jupyter-widgets/base",
      "model_module_version": "2.0.0",
      "model_name": "LayoutModel",
      "state": {
       "margin": "0px 0px 10px 0px"
      }
     },
     "80877aa1a8504165b394ca5bb92ad481": {
      "model_module": "@jupyter-widgets/controls",
      "model_module_version": "2.0.0",
      "model_name": "HTMLStyleModel",
      "state": {
       "description_width": "",
       "font_size": null,
       "text_color": null
      }
     },
     "8490ca93308a4a9186c3a11a7ba7b477": {
      "model_module": "@jupyter-widgets/controls",
      "model_module_version": "2.0.0",
      "model_name": "HTMLModel",
      "state": {
       "layout": "IPY_MODEL_9a0f658e4fe3454b871f486a4a4c47d7",
       "style": "IPY_MODEL_668bcb3d7cef42fab20d015d932fd1ef",
       "value": "<h5>Status</h5>"
      }
     },
     "88b9a02f5352426fa36ffb7e0bca2c1d": {
      "model_module": "@jupyter-widgets/controls",
      "model_module_version": "2.0.0",
      "model_name": "HTMLModel",
      "state": {
       "layout": "IPY_MODEL_70c8be8750e649bc810eb7f7dbed62a8",
       "style": "IPY_MODEL_122891c17723492b93b88875d216cbc9",
       "value": "<p style='font-family: IBM Plex Sans, Arial, Helvetica, sans-serif; font-size: 20px; font-weight: medium;'>Circuit Properties</p>"
      }
     },
     "9669b7ea7fa344369177c7e04677cdf9": {
      "model_module": "@jupyter-widgets/controls",
      "model_module_version": "2.0.0",
      "model_name": "HTMLStyleModel",
      "state": {
       "description_width": "",
       "font_size": null,
       "text_color": null
      }
     },
     "97db22924f4e46f9843a5fe8c64df53f": {
      "model_module": "@jupyter-widgets/base",
      "model_module_version": "2.0.0",
      "model_name": "LayoutModel",
      "state": {}
     },
     "9a0f658e4fe3454b871f486a4a4c47d7": {
      "model_module": "@jupyter-widgets/base",
      "model_module_version": "2.0.0",
      "model_name": "LayoutModel",
      "state": {
       "width": "95px"
      }
     },
     "9c7a936fe50045c098de2aaf07bc2a3f": {
      "model_module": "@jupyter-widgets/base",
      "model_module_version": "2.0.0",
      "model_name": "LayoutModel",
      "state": {
       "width": "70px"
      }
     },
     "9e6dff7f3e4e4775bd21f78cbefeb267": {
      "model_module": "@jupyter-widgets/controls",
      "model_module_version": "2.0.0",
      "model_name": "ButtonStyleModel",
      "state": {
       "font_family": null,
       "font_size": null,
       "font_style": null,
       "font_variant": null,
       "font_weight": null,
       "text_color": null,
       "text_decoration": null
      }
     },
     "9ebd063956af42f7a99839be92ba0318": {
      "model_module": "@jupyter-widgets/controls",
      "model_module_version": "2.0.0",
      "model_name": "HTMLModel",
      "state": {
       "layout": "IPY_MODEL_9c7a936fe50045c098de2aaf07bc2a3f",
       "style": "IPY_MODEL_80877aa1a8504165b394ca5bb92ad481",
       "value": "<h5>Queue</h5>"
      }
     },
     "be28d297f98a42e1b2d3da61f97d1e68": {
      "model_module": "@jupyter-widgets/base",
      "model_module_version": "2.0.0",
      "model_name": "LayoutModel",
      "state": {
       "grid_area": "right",
       "padding": "0px 0px 0px 0px",
       "width": "70px"
      }
     },
     "c4cda939df514cd4b5c7de5cb0f40ec2": {
      "model_module": "@jupyter-widgets/controls",
      "model_module_version": "2.0.0",
      "model_name": "HTMLModel",
      "state": {
       "layout": "IPY_MODEL_29067b74e4314b7c8c7acbe98eca4b4b",
       "style": "IPY_MODEL_9669b7ea7fa344369177c7e04677cdf9",
       "value": "<h5>Job ID</h5>"
      }
     },
     "f84e9677c4b945cc95f047befd715e6f": {
      "model_module": "@jupyter-widgets/controls",
      "model_module_version": "2.0.0",
      "model_name": "HTMLModel",
      "state": {
       "layout": "IPY_MODEL_665a62f579dd4d93b7cdec2dc1591d6f",
       "style": "IPY_MODEL_614bc1819d094531a63521367f5a4e00",
       "value": "<h5>Backend</h5>"
      }
     },
     "f8e3fa908033430aa26ea26195e512ec": {
      "model_module": "@jupyter-widgets/controls",
      "model_module_version": "2.0.0",
      "model_name": "ButtonModel",
      "state": {
       "button_style": "primary",
       "description": "Clear",
       "layout": "IPY_MODEL_be28d297f98a42e1b2d3da61f97d1e68",
       "style": "IPY_MODEL_9e6dff7f3e4e4775bd21f78cbefeb267",
       "tooltip": null
      }
     }
    },
    "version_major": 2,
    "version_minor": 0
   }
  }
 },
 "nbformat": 4,
 "nbformat_minor": 5
}
