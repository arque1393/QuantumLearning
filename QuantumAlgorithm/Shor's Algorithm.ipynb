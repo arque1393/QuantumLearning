{
 "cells": [
  {
   "cell_type": "markdown",
   "id": "660d5a08-4f99-4255-ba60-dba40f38b82c",
   "metadata": {
    "tags": []
   },
   "source": [
    "# **Step by Step Building of Shor's Algotithm** "
   ]
  },
  {
   "cell_type": "markdown",
   "id": "707f6be6-7078-4c7a-a385-93ef5279abfb",
   "metadata": {},
   "source": [
    "1. QFT : Quantum Fourior Transform "
   ]
  },
  {
   "cell_type": "markdown",
   "id": "fcda0753-6a20-43b5-b4d9-f1340b43a193",
   "metadata": {},
   "source": [
    "## Basic Imports "
   ]
  },
  {
   "cell_type": "code",
   "execution_count": 7,
   "id": "62fb37d5-b75e-425c-8bde-34256cdf8d32",
   "metadata": {
    "tags": []
   },
   "outputs": [],
   "source": [
    "import numpy as np \n",
    "import qiskit as q\n",
    "from qiskit import quantum_info as qi\n",
    "from qiskit.visualization import plot_bloch_multivector, plot_bloch_vector, plot_histogram\n",
    "from matplotlib import pyplot as plt\n",
    "from IPython.display import display as disp\n",
    "%matplotlib inline"
   ]
  },
  {
   "cell_type": "markdown",
   "id": "b61080b5-ead3-4f5f-9b00-fe915e3c950d",
   "metadata": {},
   "source": [
    "## Quantum Fourior Transform "
   ]
  },
  {
   "cell_type": "code",
   "execution_count": 8,
   "id": "cd7a18d4",
   "metadata": {},
   "outputs": [],
   "source": [
    "style={\"backgroundcolor\": \"black\",\"linecolor\": \"#ddddee\", \"textcolor\": \"#fffffe\",\n",
    "       'subtextcolor':'fffffe','fontsize':12,'subfontsize':9,\n",
    "       \"displaycolor\": {\n",
    "        # \"x\": [ # gate name\n",
    "        #     \"#da1e28\", # box color (red)\n",
    "        #     \"#FFFFFF\" # box text color (white)\n",
    "        # ],\n",
    "        # \"h\": [ # gate name\n",
    "        #     \"#da1e28\", # box color (red)\n",
    "        #     \"#FFFFFF\" # box text color (white)\n",
    "        # ],\n",
    "        # \"cx\": [ # gate name\n",
    "        #     \"#da1e28\", # box color (red)\n",
    "        #     \"#FFFFFF\" # box text color (white)\n",
    "        # ],\n",
    "        # \"ry\": [ # gate name\n",
    "        #     \"#da1e28\", # box color (red)\n",
    "        #     \"#FFFFFF\" # box text color (white)\n",
    "        # ],\n",
    "        \"measure\":[\"#8900aa\",\"white\"]\n",
    "    },\n",
    "       }"
   ]
  },
  {
   "cell_type": "code",
   "execution_count": 12,
   "id": "24bcf50b-df1b-4f88-b0cf-8a01cd95d400",
   "metadata": {
    "tags": []
   },
   "outputs": [
    {
     "data": {
      "image/png": "[encoded data removed]",
      "text/plain": [
       "<Figure size 1049.8x264.88 with 1 Axes>"
      ]
     },
     "metadata": {},
     "output_type": "display_data"
    }
   ],
   "source": [
    "n_qubit = 4\n",
    "fourior_circuit = q.QuantumCircuit(n_qubit, name = \"QFT\")\n",
    "\n",
    "for qubit in range(n_qubit):\n",
    "    fourior_circuit.h(qubit)\n",
    "    for o_qubit in range(qubit+1,n_qubit):\n",
    "        cu1 = q.circuit.library.CU1Gate(np.pi/(2**(o_qubit-qubit)))\n",
    "        fourior_circuit.append(cu1,[o_qubit, qubit])\n",
    "display(fourior_circuit.draw('mpl', style=style, fold=False))\n"
   ]
  },
  {
   "cell_type": "code",
   "execution_count": 13,
   "id": "53dc6958-f8f2-4d6b-a49f-a51c378b4bb8",
   "metadata": {
    "tags": []
   },
   "outputs": [
    {
     "data": {
      "image/png": "[encoded data removed]",
      "text/plain": [
       "<Figure size 1651.8x325.08 with 1 Axes>"
      ]
     },
     "metadata": {},
     "output_type": "display_data"
    }
   ],
   "source": [
    "from qiskit.circuit.library import QFT\n",
    "fc = QFT(5).decompose()\n",
    "disp(fc.draw('mpl', fold=False))"
   ]
  },
  {
   "cell_type": "code",
   "execution_count": 8,
   "id": "9d4b4ba3-48d5-40b5-8dc4-b538374f4a8d",
   "metadata": {
    "tags": []
   },
   "outputs": [],
   "source": [
    "from qiskit import Aer\n",
    "sv_sim = Aer.get_backend('statevector_simulator')"
   ]
  },
  {
   "cell_type": "code",
   "execution_count": 9,
   "id": "73a57729",
   "metadata": {},
   "outputs": [
    {
     "data": {
      "text/latex": [
       "$$\\frac{1}{4} |0000\\rangle+\\frac{1}{4} |0001\\rangle+\\frac{1}{4} |0010\\rangle+\\frac{1}{4} |0011\\rangle+\\frac{1}{4} |0100\\rangle+\\frac{1}{4} |0101\\rangle + \\ldots +\\frac{1}{4} |1011\\rangle+\\frac{1}{4} |1100\\rangle+\\frac{1}{4} |1101\\rangle+\\frac{1}{4} |1110\\rangle+\\frac{1}{4} |1111\\rangle$$"
      ],
      "text/plain": [
       "<IPython.core.display.Latex object>"
      ]
     },
     "metadata": {},
     "output_type": "display_data"
    },
    {
     "data": {
      "text/latex": [
       "$$0.176776695297 |00000\\rangle+0.176776695297 |00001\\rangle+0.176776695297 |00010\\rangle+0.176776695297 |00011\\rangle+0.176776695297 |00100\\rangle+0.176776695297 |00101\\rangle + \\ldots +0.176776695297 |11011\\rangle+0.176776695297 |11100\\rangle+0.176776695297 |11101\\rangle+0.176776695297 |11110\\rangle+0.176776695297 |11111\\rangle$$"
      ],
      "text/plain": [
       "<IPython.core.display.Latex object>"
      ]
     },
     "metadata": {},
     "output_type": "display_data"
    }
   ],
   "source": [
    "my_circuit_sv = q.execute(fourior_circuit,sv_sim).result().get_statevector()\n",
    "qiskit_circuit_sv =  q.execute(fc,sv_sim).result().get_statevector()\n",
    "\n",
    "disp(my_circuit_sv.draw('latex'))\n",
    "disp(qiskit_circuit_sv.draw('latex'))"
   ]
  },
  {
   "cell_type": "markdown",
   "id": "93169acc-0e66-4f6b-9627-90c05ddfebcc",
   "metadata": {},
   "source": [
    "## Quanum Phase Estimation "
   ]
  },
  {
   "cell_type": "markdown",
   "id": "eb4b2aad",
   "metadata": {},
   "source": [
    "**Goal** : To find the global phase of a qubit "
   ]
  },
  {
   "cell_type": "markdown",
   "id": "66175c13-1a54-4464-a6f6-d87714a1ea4d",
   "metadata": {},
   "source": [
    "- Unitory matrix has **Eigen Vector** in the form of $\\large e^{i\\theta}$\n",
    "- **Eigen Vectors** of an unitary Operator are **Orthogonal** to each other "
   ]
  },
  {
   "cell_type": "markdown",
   "id": "ca8ad364-1182-4556-bc53-64e6abf5bfd5",
   "metadata": {},
   "source": [
    "#### Problem Statement\n",
    "$\\displaystyle \\large \\mathcal{U}\\ket{\\psi} = e^{i\\theta_\\psi}\\ket{\\psi} \\;\\; \\normalsize\n",
    "\\text{where} \\;\\; \\ket{\\psi} \\;\\;\\text{is the eigen vector of} \\;\\; \\mathcal{U} \\;\\; \\text{operator}$\n",
    "\n",
    "Can we estimate the $\\theta_\\psi$ given we can prepare $\\ket\\psi$ and also can apply $\\mathcal{U}$ ob $\\ket\\psi$\n",
    "\n"
   ]
  },
  {
   "cell_type": "markdown",
   "id": "ae3c4160",
   "metadata": {},
   "source": [
    "### Single Qubit Phase Estimation"
   ]
  },
  {
   "cell_type": "code",
   "execution_count": 10,
   "id": "497ac46b",
   "metadata": {},
   "outputs": [
    {
     "data": {
      "text/plain": [
       "0.75207"
      ]
     },
     "execution_count": 10,
     "metadata": {},
     "output_type": "execute_result"
    }
   ],
   "source": [
    "def counts_probablity(counts, qbit = '0'):\n",
    "    return counts['0']/sum(counts.values())\n",
    "counts_probablity({'0': 75207, '1': 24793})"
   ]
  },
  {
   "cell_type": "markdown",
   "id": "97cc0824-4523-47d0-a4ec-a5499c4e8915",
   "metadata": {},
   "source": [
    "#### Preparing Unitary "
   ]
  },
  {
   "cell_type": "code",
   "execution_count": 11,
   "id": "32b40350",
   "metadata": {},
   "outputs": [],
   "source": [
    "from qiskit.circuit.library import CU1Gate\n",
    "phase = np.deg2rad(90)\n",
    "cu1 = CU1Gate(phase)"
   ]
  },
  {
   "cell_type": "code",
   "execution_count": 33,
   "id": "dd78052e-2af3-4360-89d4-753baa833e6d",
   "metadata": {},
   "outputs": [],
   "source": [
    "# Creating Statevector Simulator for testing Unitary \n",
    "from qiskit import Aer \n",
    "Aer.backends()\n",
    "sv_sim = Aer.get_backend('statevector_simulator')"
   ]
  },
  {
   "cell_type": "code",
   "execution_count": null,
   "id": "fc3a7356-f6e6-4364-8ab4-839abcf68a78",
   "metadata": {},
   "outputs": [],
   "source": []
  },
  {
   "cell_type": "code",
   "execution_count": null,
   "id": "75b699c4-70b6-47d8-a471-86ec60574b20",
   "metadata": {},
   "outputs": [],
   "source": []
  },
  {
   "cell_type": "code",
   "execution_count": 39,
   "id": "0a0aec8a-3e6a-48cb-9cd9-fd82a6cc40d9",
   "metadata": {},
   "outputs": [
    {
     "data": {
      "image/png": "[encoded data removed]",
      "text/plain": [
       "<Figure size 206.852x204.68 with 1 Axes>"
      ]
     },
     "execution_count": 39,
     "metadata": {},
     "output_type": "execute_result"
    }
   ],
   "source": [
    "test_circuit = q.QuantumCircuit(2,1)\n",
    "test_circuit.append(cu1,[0,1])\n",
    "test_circuit.draw('mpl')"
   ]
  },
  {
   "cell_type": "code",
   "execution_count": null,
   "id": "f10f2bfd-417a-485a-b700-c2d40a66d601",
   "metadata": {},
   "outputs": [],
   "source": []
  },
  {
   "cell_type": "markdown",
   "id": "18364837-d351-432a-a1f7-a96c8516aa68",
   "metadata": {},
   "source": [
    "#### Applying QPE on Single qubit state $\\ket\\psi$"
   ]
  },
  {
   "cell_type": "code",
   "execution_count": 12,
   "id": "e573ebd3",
   "metadata": {},
   "outputs": [
    {
     "data": {
      "image/png": "[encoded data removed]",
      "text/plain": [
       "<Figure size 385.721x204.68 with 1 Axes>"
      ]
     },
     "execution_count": 12,
     "metadata": {},
     "output_type": "execute_result"
    }
   ],
   "source": [
    "# Define QRegisters psi and q\n",
    "psi = q.QuantumRegister(1, name='\\psi')\n",
    "q1 = q.QuantumRegister(1, name='q')\n",
    "c1 = q.ClassicalRegister(1,name='c1')\n",
    "# Creating Circuit\n",
    "circ = q.QuantumCircuit(q1,psi,c1)\n",
    "circ.h(1)\n",
    "# circ.s(1)\n",
    "circ.h(0)\n",
    "# circ.cu(0,1)\n",
    "circ.append(cu1,[0,1])\n",
    "circ.h(0)\n",
    "circ.measure(0,0)\n",
    "\n",
    "circ.draw('mpl',style=style)\n",
    "# def add_phase(circ):"
   ]
  },
  {
   "cell_type": "code",
   "execution_count": 15,
   "id": "e4d1ad7f",
   "metadata": {},
   "outputs": [
    {
     "name": "stdout",
     "output_type": "stream",
     "text": [
      "{'1': 24934, '0': 75066}\n",
      "Probablity = 0.75066\n"
     ]
    }
   ],
   "source": [
    "qasm_sim = Aer.get_backend('qasm_simulator')\n",
    "counts = q.execute(circ, qasm_sim, shots=100000).result().get_counts()\n",
    "print(counts)\n",
    "prob = counts_probablity(counts)\n",
    "print(f'Probablity = {prob}')"
   ]
  },
  {
   "cell_type": "code",
   "execution_count": 19,
   "id": "3b1c4aa3",
   "metadata": {},
   "outputs": [
    {
     "data": {
      "text/plain": [
       "28.64788975654116"
      ]
     },
     "execution_count": 19,
     "metadata": {},
     "output_type": "execute_result"
    }
   ],
   "source": [
    "estimate_phase = np.rad2deg(1/2)\n",
    "estimate_phase"
   ]
  },
  {
   "cell_type": "code",
   "execution_count": null,
   "id": "112ad259",
   "metadata": {},
   "outputs": [],
   "source": []
  },
  {
   "cell_type": "code",
   "execution_count": null,
   "id": "474d3693",
   "metadata": {},
   "outputs": [],
   "source": []
  },
  {
   "cell_type": "code",
   "execution_count": null,
   "id": "1a05c4f0",
   "metadata": {},
   "outputs": [],
   "source": []
  },
  {
   "cell_type": "code",
   "execution_count": null,
   "id": "b83fb093",
   "metadata": {},
   "outputs": [],
   "source": []
  },
  {
   "cell_type": "code",
   "execution_count": null,
   "id": "b7d5bc6c",
   "metadata": {},
   "outputs": [],
   "source": []
  },
  {
   "cell_type": "code",
   "execution_count": null,
   "id": "2f8dec51",
   "metadata": {},
   "outputs": [],
   "source": []
  },
  {
   "cell_type": "code",
   "execution_count": null,
   "id": "4943fb7b",
   "metadata": {},
   "outputs": [],
   "source": []
  }
 ],
 "metadata": {
  "kernelspec": {
   "display_name": "Python 3 (Spyder)",
   "language": "python3",
   "name": "python3"
  },
  "language_info": {
   "codemirror_mode": {
    "name": "ipython",
    "version": 3
   },
   "file_extension": ".py",
   "mimetype": "text/x-python",
   "name": "python",
   "nbconvert_exporter": "python",
   "pygments_lexer": "ipython3",
   "version": "3.11.6"
  },
  "widgets": {
   "application/vnd.jupyter.widget-state+json": {
    "state": {},
    "version_major": 2,
    "version_minor": 0
   }
  }
 },
 "nbformat": 4,
 "nbformat_minor": 5
}
