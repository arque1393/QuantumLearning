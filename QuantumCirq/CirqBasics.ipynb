{
 "cells": [
  {
   "cell_type": "code",
   "execution_count": 1,
   "metadata": {},
   "outputs": [],
   "source": [
    "import cirq "
   ]
  },
  {
   "attachments": {},
   "cell_type": "markdown",
   "metadata": {},
   "source": [
    "Creating Qubits\n",
    "```python\n",
    "cirq.NamedQubit(name:str) \n",
    "cirq.LineQubit(x:int)\n",
    "cirq.GridQubit.rect(rows:int,cols:int)\n",
    "cirq.GridQubit.square(size:int)\n",
    "\n",
    "\n",
    "```"
   ]
  },
  {
   "attachments": {},
   "cell_type": "markdown",
   "metadata": {},
   "source": [
    "### Create Basic Quantum Circuit"
   ]
  },
  {
   "cell_type": "code",
   "execution_count": 21,
   "metadata": {},
   "outputs": [
    {
     "name": "stdout",
     "output_type": "stream",
     "text": [
      "0: ───H───────\n",
      "\n",
      "1: ───H───────\n",
      "\n",
      "2: ───H───────\n",
      "\n",
      "3: ───H───────\n",
      "\n",
      "4: ───H───────\n",
      "\n",
      "5: ───X───H───\n"
     ]
    }
   ],
   "source": [
    "qubits = cirq.LineQubit.range(6)\n",
    "circuit = cirq.Circuit()\n",
    "circuit.append(cirq.X(qubits[5]))\n",
    "circuit.append(cirq.H.on_each(qubits))\n",
    "\n",
    "print(circuit)"
   ]
  },
  {
   "cell_type": "code",
   "execution_count": null,
   "metadata": {},
   "outputs": [],
   "source": []
  }
 ],
 "metadata": {
  "kernelspec": {
   "display_name": "Python 3",
   "language": "python",
   "name": "python3"
  },
  "language_info": {
   "codemirror_mode": {
    "name": "ipython",
    "version": 3
   },
   "file_extension": ".py",
   "mimetype": "text/x-python",
   "name": "python",
   "nbconvert_exporter": "python",
   "pygments_lexer": "ipython3",
   "version": "3.10.9"
  },
  "orig_nbformat": 4,
  "polyglot_notebook": {
   "kernelInfo": {
    "defaultKernelName": "csharp",
    "items": [
     {
      "aliases": [],
      "name": "csharp"
     }
    ]
   }
  }
 },
 "nbformat": 4,
 "nbformat_minor": 2
}
