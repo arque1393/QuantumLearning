{
 "cells": [
  {
   "cell_type": "markdown",
   "metadata": {},
   "source": [
    "# Fundamentals of Qiskits"
   ]
  },
  {
   "cell_type": "code",
   "execution_count": 1,
   "metadata": {},
   "outputs": [
    {
     "data": {
      "text/plain": [
       "{'qiskit-terra': '0.23.1', 'qiskit-aer': '0.11.2', 'qiskit-ignis': None, 'qiskit-ibmq-provider': '0.20.0', 'qiskit': '0.41.0', 'qiskit-nature': None, 'qiskit-finance': None, 'qiskit-optimization': None, 'qiskit-machine-learning': None}"
      ]
     },
     "execution_count": 1,
     "metadata": {},
     "output_type": "execute_result"
    }
   ],
   "source": [
    "# importing Qiskit\n",
    "%matplotlib inline\n",
    "import qiskit\n",
    "qiskit.__qiskit_version__"
   ]
  },
  {
   "cell_type": "code",
   "execution_count": 2,
   "metadata": {
    "tags": []
   },
   "outputs": [],
   "source": [
    "from qiskit import QuantumCircuit #Quantum Circuit \n",
    "from qiskit import assemble\n",
    "from qiskit import Aer # Queantum simulator handler \n",
    "from qiskit.visualization import plot_histogram"
   ]
  },
  {
   "cell_type": "code",
   "execution_count": 3,
   "metadata": {
    "tags": []
   },
   "outputs": [],
   "source": [
    "qc = QuantumCircuit(1)"
   ]
  },
  {
   "cell_type": "code",
   "execution_count": 4,
   "metadata": {
    "tags": []
   },
   "outputs": [],
   "source": [
    "qc.measure_all()"
   ]
  },
  {
   "cell_type": "code",
   "execution_count": 5,
   "metadata": {
    "tags": []
   },
   "outputs": [
    {
     "data": {
      "image/svg+xml": "<?xml version=\"1.0\" encoding=\"utf-8\" standalone=\"no\"?>\n<!DOCTYPE svg PUBLIC \"-//W3C//DTD SVG 1.1//EN\"\n  \"http://www.w3.org/Graphics/SVG/1.1/DTD/svg11.dtd\">\n<svg xmlns:xlink=\"http://www.w3.org/1999/xlink\" width=\"212.206422pt\" height=\"125.649599pt\" viewBox=\"0 0 212.206422 125.649599\" xmlns=\"http://www.w3.org/2000/svg\" version=\"1.1\">\n <metadata>\n  <rdf:RDF xmlns:dc=\"http://purl.org/dc/elements/1.1/\" xmlns:cc=\"http://creativecommons.org/ns#\" xmlns:rdf=\"http://www.w3.org/1999/02/22-rdf-syntax-ns#\">\n   <cc:Work>\n    <dc:type rdf:resource=\"http://purl.org/dc/dcmitype/StillImage\"/>\n    <dc:date>2023-02-11T12:58:07.988612</dc:date>\n    <dc:format>image/svg+xml</dc:format>\n    <dc:creator>\n     <cc:Agent>\n      <dc:title>Matplotlib v3.6.3, https://matplotlib.org/</dc:title>\n     </cc:Agent>\n    </dc:creator>\n   </cc:Work>\n  </rdf:RDF>\n </metadata>\n <defs>\n  <style type=\"text/css\">*{stroke-linejoin: round; stroke-linecap: butt}</style>\n </defs>\n <g id=\"figure_1\">\n  <g id=\"patch_1\">\n   <path d=\"M 0 125.649599 \nL 212.206422 125.649599 \nL 212.206422 0 \nL 0 0 \nz\n\" style=\"fill: #ffffff\"/>\n  </g>\n  <g id=\"axes_1\">\n   <g id=\"patch_2\">\n    <path d=\"M 168.386762 80.091664 \nL 180.438802 80.091664 \nL 174.412782 88.783039 \nz\n\" clip-path=\"url(#p3a4c3a837f)\" style=\"fill: #778899\"/>\n   </g>\n   <g id=\"line2d_1\">\n    <path d=\"M 103.027623 44.2832 \nL 200.371022 44.2832 \n\" clip-path=\"url(#p3a4c3a837f)\" style=\"fill: none; stroke: #000000; stroke-width: 2; stroke-linecap: square\"/>\n   </g>\n   <g id=\"line2d_2\">\n    <path d=\"M 103.027623 89.130694 \nL 200.371022 89.130694 \n\" clip-path=\"url(#p3a4c3a837f)\" style=\"fill: none; stroke: #778899; stroke-width: 2; stroke-linecap: square\"/>\n   </g>\n   <g id=\"line2d_3\">\n    <path d=\"M 103.027623 92.143704 \nL 200.371022 92.143704 \n\" clip-path=\"url(#p3a4c3a837f)\" style=\"fill: none; stroke: #778899; stroke-width: 2; stroke-linecap: square\"/>\n   </g>\n   <g id=\"line2d_4\">\n    <path d=\"M 112.298423 95.272599 \nL 116.933823 86.001799 \n\" clip-path=\"url(#p3a4c3a837f)\" style=\"fill: none; stroke: #778899; stroke-width: 1.5; stroke-linecap: square\"/>\n   </g>\n   <g id=\"patch_3\">\n    <path d=\"M 119.019753 67.460199 \nL 137.097812 67.460199 \nL 137.097812 21.1062 \nL 119.019753 21.1062 \nz\n\" clip-path=\"url(#p3a4c3a837f)\" style=\"fill: #bdbdbd; opacity: 0.6\"/>\n   </g>\n   <g id=\"line2d_5\">\n    <path d=\"M 175.919287 44.2832 \nL 175.919287 80.091664 \n\" clip-path=\"url(#p3a4c3a837f)\" style=\"fill: none; stroke: #778899; stroke-width: 2; stroke-linecap: square\"/>\n   </g>\n   <g id=\"line2d_6\">\n    <path d=\"M 172.906277 44.2832 \nL 172.906277 80.091664 \n\" clip-path=\"url(#p3a4c3a837f)\" style=\"fill: none; stroke: #778899; stroke-width: 2; stroke-linecap: square\"/>\n   </g>\n   <g id=\"patch_4\">\n    <path d=\"M 159.347732 59.348249 \nL 189.477832 59.348249 \nL 189.477832 29.21815 \nL 159.347732 29.21815 \nz\n\" clip-path=\"url(#p3a4c3a837f)\" style=\"stroke: #000000; stroke-width: 1.5; stroke-linejoin: miter\"/>\n   </g>\n   <g id=\"patch_5\">\n    <path d=\"M 184.958317 48.802714 \nC 184.958317 46.006937 183.846514 43.322808 181.869601 41.345895 \nC 179.892688 39.368982 177.208559 38.25718 174.412782 38.25718 \nC 171.617005 38.25718 168.932876 39.368982 166.955963 41.345895 \nC 164.97905 43.322808 163.867247 46.006937 163.867247 48.802714 \n\" clip-path=\"url(#p3a4c3a837f)\" style=\"fill: none; stroke: #ffffff; stroke-width: 2; stroke-linejoin: miter\"/>\n   </g>\n   <g id=\"line2d_7\">\n    <path d=\"M 174.412782 48.802714 \nL 184.958317 38.25718 \n\" clip-path=\"url(#p3a4c3a837f)\" style=\"fill: none; stroke: #ffffff; stroke-width: 2; stroke-linecap: square\"/>\n   </g>\n   <g id=\"text_1\">\n    <g clip-path=\"url(#p3a4c3a837f)\">\n     <!-- ${q}$ |0&gt; -->\n     <g transform=\"translate(48.744323 48.58945) scale(0.1625 -0.1625)\">\n      <defs>\n       <path id=\"DejaVuSans-Oblique-71\" d=\"M 2669 525 \nQ 2438 222 2123 65 \nQ 1809 -91 1428 -91 \nQ 897 -91 595 267 \nQ 294 625 294 1253 \nQ 294 1759 480 2231 \nQ 666 2703 1013 3078 \nQ 1238 3322 1530 3453 \nQ 1822 3584 2144 3584 \nQ 2531 3584 2781 3431 \nQ 3031 3278 3144 2969 \nL 3244 3494 \nL 3822 3494 \nL 2888 -1319 \nL 2309 -1319 \nL 2669 525 \nz\nM 891 1338 \nQ 891 875 1084 633 \nQ 1278 391 1644 391 \nQ 2188 391 2572 911 \nQ 2956 1431 2956 2175 \nQ 2956 2625 2757 2864 \nQ 2559 3103 2188 3103 \nQ 1916 3103 1684 2976 \nQ 1453 2850 1281 2606 \nQ 1100 2350 995 2006 \nQ 891 1663 891 1338 \nz\n\" transform=\"scale(0.015625)\"/>\n       <path id=\"DejaVuSans-20\" transform=\"scale(0.015625)\"/>\n       <path id=\"DejaVuSans-7c\" d=\"M 1344 4891 \nL 1344 -1509 \nL 813 -1509 \nL 813 4891 \nL 1344 4891 \nz\n\" transform=\"scale(0.015625)\"/>\n       <path id=\"DejaVuSans-30\" d=\"M 2034 4250 \nQ 1547 4250 1301 3770 \nQ 1056 3291 1056 2328 \nQ 1056 1369 1301 889 \nQ 1547 409 2034 409 \nQ 2525 409 2770 889 \nQ 3016 1369 3016 2328 \nQ 3016 3291 2770 3770 \nQ 2525 4250 2034 4250 \nz\nM 2034 4750 \nQ 2819 4750 3233 4129 \nQ 3647 3509 3647 2328 \nQ 3647 1150 3233 529 \nQ 2819 -91 2034 -91 \nQ 1250 -91 836 529 \nQ 422 1150 422 2328 \nQ 422 3509 836 4129 \nQ 1250 4750 2034 4750 \nz\n\" transform=\"scale(0.015625)\"/>\n       <path id=\"DejaVuSans-3e\" d=\"M 678 3150 \nL 678 3719 \nL 4684 2266 \nL 4684 1747 \nL 678 294 \nL 678 863 \nL 3897 2003 \nL 678 3150 \nz\n\" transform=\"scale(0.015625)\"/>\n      </defs>\n      <use xlink:href=\"#DejaVuSans-Oblique-71\" transform=\"translate(0 0.578125)\"/>\n      <use xlink:href=\"#DejaVuSans-20\" transform=\"translate(63.476562 0.578125)\"/>\n      <use xlink:href=\"#DejaVuSans-7c\" transform=\"translate(95.263672 0.578125)\"/>\n      <use xlink:href=\"#DejaVuSans-30\" transform=\"translate(128.955078 0.578125)\"/>\n      <use xlink:href=\"#DejaVuSans-3e\" transform=\"translate(192.578125 0.578125)\"/>\n     </g>\n    </g>\n   </g>\n   <g id=\"text_2\">\n    <g clip-path=\"url(#p3a4c3a837f)\">\n     <!-- 1 -->\n     <g transform=\"translate(107.663023 83.838924) scale(0.104 -0.104)\">\n      <defs>\n       <path id=\"DejaVuSans-31\" d=\"M 794 531 \nL 1825 531 \nL 1825 4091 \nL 703 3866 \nL 703 4441 \nL 1819 4666 \nL 2450 4666 \nL 2450 531 \nL 3481 531 \nL 3481 0 \nL 794 0 \nL 794 531 \nz\n\" transform=\"scale(0.015625)\"/>\n      </defs>\n      <use xlink:href=\"#DejaVuSans-31\"/>\n     </g>\n    </g>\n   </g>\n   <g id=\"text_3\">\n    <g clip-path=\"url(#p3a4c3a837f)\">\n     <!-- meas 0 -->\n     <g transform=\"translate(34.002526 95.121183) scale(0.1625 -0.1625)\">\n      <defs>\n       <path id=\"DejaVuSans-6d\" d=\"M 3328 2828 \nQ 3544 3216 3844 3400 \nQ 4144 3584 4550 3584 \nQ 5097 3584 5394 3201 \nQ 5691 2819 5691 2113 \nL 5691 0 \nL 5113 0 \nL 5113 2094 \nQ 5113 2597 4934 2840 \nQ 4756 3084 4391 3084 \nQ 3944 3084 3684 2787 \nQ 3425 2491 3425 1978 \nL 3425 0 \nL 2847 0 \nL 2847 2094 \nQ 2847 2600 2669 2842 \nQ 2491 3084 2119 3084 \nQ 1678 3084 1418 2786 \nQ 1159 2488 1159 1978 \nL 1159 0 \nL 581 0 \nL 581 3500 \nL 1159 3500 \nL 1159 2956 \nQ 1356 3278 1631 3431 \nQ 1906 3584 2284 3584 \nQ 2666 3584 2933 3390 \nQ 3200 3197 3328 2828 \nz\n\" transform=\"scale(0.015625)\"/>\n       <path id=\"DejaVuSans-65\" d=\"M 3597 1894 \nL 3597 1613 \nL 953 1613 \nQ 991 1019 1311 708 \nQ 1631 397 2203 397 \nQ 2534 397 2845 478 \nQ 3156 559 3463 722 \nL 3463 178 \nQ 3153 47 2828 -22 \nQ 2503 -91 2169 -91 \nQ 1331 -91 842 396 \nQ 353 884 353 1716 \nQ 353 2575 817 3079 \nQ 1281 3584 2069 3584 \nQ 2775 3584 3186 3129 \nQ 3597 2675 3597 1894 \nz\nM 3022 2063 \nQ 3016 2534 2758 2815 \nQ 2500 3097 2075 3097 \nQ 1594 3097 1305 2825 \nQ 1016 2553 972 2059 \nL 3022 2063 \nz\n\" transform=\"scale(0.015625)\"/>\n       <path id=\"DejaVuSans-61\" d=\"M 2194 1759 \nQ 1497 1759 1228 1600 \nQ 959 1441 959 1056 \nQ 959 750 1161 570 \nQ 1363 391 1709 391 \nQ 2188 391 2477 730 \nQ 2766 1069 2766 1631 \nL 2766 1759 \nL 2194 1759 \nz\nM 3341 1997 \nL 3341 0 \nL 2766 0 \nL 2766 531 \nQ 2569 213 2275 61 \nQ 1981 -91 1556 -91 \nQ 1019 -91 701 211 \nQ 384 513 384 1019 \nQ 384 1609 779 1909 \nQ 1175 2209 1959 2209 \nL 2766 2209 \nL 2766 2266 \nQ 2766 2663 2505 2880 \nQ 2244 3097 1772 3097 \nQ 1472 3097 1187 3025 \nQ 903 2953 641 2809 \nL 641 3341 \nQ 956 3463 1253 3523 \nQ 1550 3584 1831 3584 \nQ 2591 3584 2966 3190 \nQ 3341 2797 3341 1997 \nz\n\" transform=\"scale(0.015625)\"/>\n       <path id=\"DejaVuSans-73\" d=\"M 2834 3397 \nL 2834 2853 \nQ 2591 2978 2328 3040 \nQ 2066 3103 1784 3103 \nQ 1356 3103 1142 2972 \nQ 928 2841 928 2578 \nQ 928 2378 1081 2264 \nQ 1234 2150 1697 2047 \nL 1894 2003 \nQ 2506 1872 2764 1633 \nQ 3022 1394 3022 966 \nQ 3022 478 2636 193 \nQ 2250 -91 1575 -91 \nQ 1294 -91 989 -36 \nQ 684 19 347 128 \nL 347 722 \nQ 666 556 975 473 \nQ 1284 391 1588 391 \nQ 1994 391 2212 530 \nQ 2431 669 2431 922 \nQ 2431 1156 2273 1281 \nQ 2116 1406 1581 1522 \nL 1381 1569 \nQ 847 1681 609 1914 \nQ 372 2147 372 2553 \nQ 372 3047 722 3315 \nQ 1072 3584 1716 3584 \nQ 2034 3584 2315 3537 \nQ 2597 3491 2834 3397 \nz\n\" transform=\"scale(0.015625)\"/>\n      </defs>\n      <use xlink:href=\"#DejaVuSans-6d\"/>\n      <use xlink:href=\"#DejaVuSans-65\" x=\"97.412109\"/>\n      <use xlink:href=\"#DejaVuSans-61\" x=\"158.935547\"/>\n      <use xlink:href=\"#DejaVuSans-73\" x=\"220.214844\"/>\n      <use xlink:href=\"#DejaVuSans-20\" x=\"272.314453\"/>\n      <use xlink:href=\"#DejaVuSans-30\" x=\"304.101562\"/>\n     </g>\n    </g>\n   </g>\n   <g id=\"line2d_8\">\n    <path d=\"M 128.058783 21.1062 \nL 128.058783 67.460199 \n\" clip-path=\"url(#p3a4c3a837f)\" style=\"fill: none; stroke-dasharray: 3.7,1.6; stroke-dashoffset: 0; stroke: #000000\"/>\n   </g>\n   <g id=\"text_4\">\n    <g clip-path=\"url(#p3a4c3a837f)\">\n     <!-- 0 -->\n     <g transform=\"translate(186.001282 83.838924) scale(0.104 -0.104)\">\n      <use xlink:href=\"#DejaVuSans-30\"/>\n     </g>\n    </g>\n   </g>\n  </g>\n </g>\n <defs>\n  <clipPath id=\"p3a4c3a837f\">\n   <rect x=\"7.2\" y=\"7.2\" width=\"197.806422\" height=\"111.249599\"/>\n  </clipPath>\n </defs>\n</svg>\n",
      "text/plain": [
       "<Figure size 356.794x200.667 with 1 Axes>"
      ]
     },
     "execution_count": 5,
     "metadata": {},
     "output_type": "execute_result"
    }
   ],
   "source": [
    "qc.draw(initial_state=True)"
   ]
  },
  {
   "cell_type": "code",
   "execution_count": null,
   "metadata": {},
   "outputs": [],
   "source": []
  }
 ],
 "metadata": {
  "kernelspec": {
   "display_name": "Python 3 (ipykernel)",
   "language": "python",
   "name": "python3"
  },
  "language_info": {
   "codemirror_mode": {
    "name": "ipython",
    "version": 3
   },
   "file_extension": ".py",
   "mimetype": "text/x-python",
   "name": "python",
   "nbconvert_exporter": "python",
   "pygments_lexer": "ipython3",
   "version": "3.10.9"
  },
  "vscode": {
   "interpreter": {
    "hash": "ee9c1ca9f96b68a9b9d0cf89d73342f5c4ccfb33d79619943016eec5fce8f295"
   }
  }
 },
 "nbformat": 4,
 "nbformat_minor": 4
}
