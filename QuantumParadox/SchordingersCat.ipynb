{
 "cells": [
  {
   "cell_type": "markdown",
   "id": "237468b0-05a2-448c-8510-e03297341a94",
   "metadata": {},
   "source": [
    "# Quantum Paradox"
   ]
  },
  {
   "cell_type": "markdown",
   "id": "7b39edc7-c5ce-42d1-9920-9d0552403f0b",
   "metadata": {},
   "source": [
    "#### General Library"
   ]
  },
  {
   "cell_type": "code",
   "execution_count": 1,
   "id": "60506c03-f107-4607-92f8-c8e7d86cdc8d",
   "metadata": {},
   "outputs": [],
   "source": [
    "import numpy as np\n",
    "import matplotlib.pyplot as plt\n",
    "import qiskit as q\n",
    "from qiskit import Aer \n",
    "from qiskit.quantum_info import Statevector\n",
    "from qiskit.visualization import (\n",
    "    plot_bloch_multivector,\n",
    "    plot_histogram,array_to_latex\n",
    ")\n",
    "from IPython.display import display as disp"
   ]
  },
  {
   "cell_type": "markdown",
   "id": "242935bc-1750-49c9-be26-af7a21126ea9",
   "metadata": {},
   "source": [
    "#### Required Simulators "
   ]
  },
  {
   "cell_type": "code",
   "execution_count": 2,
   "id": "cb8a4f1f-124a-42cc-b164-8db902670ecc",
   "metadata": {},
   "outputs": [],
   "source": [
    "sv_sim = Aer.get_backend('statevector_simulator')\n",
    "qasm_sim = Aer.get_backend('qasm_simulator')\n",
    "# aer_sim = Aer.get_backend('aer_simulator')\n",
    "from qiskit_aer import AerSimulator\n",
    "aer_sim = AerSimulator()\n"
   ]
  },
  {
   "cell_type": "markdown",
   "id": "2444fe12-d47c-4896-95ea-0a9646fd274e",
   "metadata": {},
   "source": [
    "## 1. Schordinger's Cat"
   ]
  },
  {
   "cell_type": "markdown",
   "id": "100438f9-62dc-477c-8724-a1a5706bb116",
   "metadata": {},
   "source": [
    "**Problem :** In a Closed box a cat and an radio active atom placed with a hammar such a way so that if atoms deckey hammer broke the the poison block and cat will die.\n",
    "Until a observer open the box the state of the cat is in superposition between Dead and alive \n"
   ]
  },
  {
   "cell_type": "markdown",
   "id": "c5c7698b-b531-4f7c-bb5f-5ac90b698996",
   "metadata": {},
   "source": [
    "#### Define Atom as Qubit\n"
   ]
  },
  {
   "cell_type": "code",
   "execution_count": 3,
   "id": "a63cfa9c-3ebf-482e-bd12-b32231092996",
   "metadata": {},
   "outputs": [
    {
     "data": {
      "image/png": "[encoded data removed]",
      "text/plain": [
       "<Figure size 174.199x84.28 with 1 Axes>"
      ]
     },
     "metadata": {},
     "output_type": "display_data"
    }
   ],
   "source": [
    "qr_atom = q.QuantumRegister(1,name = 'atom')\n",
    "qc = q.QuantumCircuit(qr_atom)\n",
    "qc.h(qr_atom[0])\n",
    "disp(qc.draw('mpl'))\n",
    "qc.measure_all()"
   ]
  },
  {
   "cell_type": "code",
   "execution_count": 4,
   "id": "08c9720b-a0de-49b8-9bfd-5e2e8cae70bd",
   "metadata": {},
   "outputs": [
    {
     "data": {
      "text/plain": [
       "{'0': 151, '1': 149}"
      ]
     },
     "execution_count": 4,
     "metadata": {},
     "output_type": "execute_result"
    }
   ],
   "source": [
    "result = aer_sim.run(qc,shots = 300).result()\n",
    "result.get_counts()"
   ]
  },
  {
   "cell_type": "markdown",
   "id": "7484f9eb-df8c-4dcc-92ee-c88f5435f20d",
   "metadata": {},
   "source": [
    "#### Introducing Cat Qubit"
   ]
  },
  {
   "cell_type": "code",
   "execution_count": 5,
   "id": "6d4e57d7-cf4d-4ce9-8590-05e37ceb20a1",
   "metadata": {},
   "outputs": [
    {
     "data": {
      "image/png": "[encoded data removed]",
      "text/plain": [
       "<Figure size 234.399x144.48 with 1 Axes>"
      ]
     },
     "metadata": {},
     "output_type": "display_data"
    },
    {
     "data": {
      "text/latex": [
       "$$\\frac{\\sqrt{2}}{2} |00\\rangle+\\frac{\\sqrt{2}}{2} |11\\rangle$$"
      ],
      "text/plain": [
       "<IPython.core.display.Latex object>"
      ]
     },
     "metadata": {},
     "output_type": "display_data"
    }
   ],
   "source": [
    "qr_cat = q.QuantumRegister(1,name='cat')\n",
    "qc=q.QuantumCircuit(qr_atom,qr_cat)\n",
    "qc.h(qr_atom[0])\n",
    "qc.cx(qr_atom[0],qr_cat[0])\n",
    "disp(qc.draw('mpl'))\n",
    "sv = sv_sim.run(qc).result().get_statevector()\n",
    "disp(sv.draw('latex'))"
   ]
  },
  {
   "cell_type": "markdown",
   "id": "7ce86201-6ed8-4511-b316-7d72f3abb660",
   "metadata": {},
   "source": [
    "#### Observers's point of view "
   ]
  },
  {
   "cell_type": "code",
   "execution_count": 6,
   "id": "02663869-d61a-43f3-97a9-a77e480e19c4",
   "metadata": {},
   "outputs": [
    {
     "data": {
      "image/png": "[encoded data removed]",
      "text/plain": [
       "<Figure size 332.814x204.68 with 1 Axes>"
      ]
     },
     "metadata": {},
     "output_type": "display_data"
    },
    {
     "data": {
      "text/latex": [
       "$$\\frac{\\sqrt{2}}{2} |000\\rangle+\\frac{\\sqrt{2}}{2} |111\\rangle$$"
      ],
      "text/plain": [
       "<IPython.core.display.Latex object>"
      ]
     },
     "metadata": {},
     "output_type": "display_data"
    }
   ],
   "source": [
    "qr_observer = q.QuantumRegister(1,'observer')\n",
    "# qc = q.QuantumCircuit(qr_atom,qr_cat,\n",
    "qc.add_register(qr_observer)\n",
    "qc.cx(qr_cat[0],qr_observer[0])\n",
    "disp(qc.draw('mpl'))\n",
    "sv = sv_sim.run(qc).result().get_statevector()\n",
    "disp(sv.draw('latex'))"
   ]
  },
  {
   "cell_type": "code",
   "execution_count": 7,
   "id": "1ef6c51c-ec4e-4ad1-a8a9-19552b44cde2",
   "metadata": {},
   "outputs": [],
   "source": [
    "qc.measure_all()"
   ]
  },
  {
   "cell_type": "code",
   "execution_count": 8,
   "id": "5c5e093e-a86b-4897-b998-ec38f27d7f3a",
   "metadata": {},
   "outputs": [
    {
     "data": {
      "text/plain": [
       "{'111': 1}"
      ]
     },
     "execution_count": 8,
     "metadata": {},
     "output_type": "execute_result"
    }
   ],
   "source": [
    "sv_sim.run(qc).result().get_counts()"
   ]
  },
  {
   "cell_type": "code",
   "execution_count": null,
   "id": "0b29a6fa-a5ae-41bf-9a5c-044bfa7655d1",
   "metadata": {},
   "outputs": [],
   "source": []
  },
  {
   "cell_type": "code",
   "execution_count": null,
   "id": "0a7839e0-f84d-440b-9da8-1bc445ae713b",
   "metadata": {},
   "outputs": [],
   "source": []
  },
  {
   "cell_type": "code",
   "execution_count": null,
   "id": "e8b0accb-cd0d-473e-b0ab-e208e2618a34",
   "metadata": {},
   "outputs": [],
   "source": []
  },
  {
   "cell_type": "markdown",
   "id": "e7451e06-12a5-4152-87ca-ad0bce0adbd4",
   "metadata": {},
   "source": [
    "## 2. Wigner's friend paradox : Measurement Problem  "
   ]
  },
  {
   "cell_type": "markdown",
   "id": "b663be8f-2ea6-4884-b2e7-101a196eddb3",
   "metadata": {},
   "source": [
    "**Problem :**"
   ]
  },
  {
   "cell_type": "markdown",
   "id": "191f07af-dc76-4aa9-8144-026a3e741ee4",
   "metadata": {},
   "source": [
    "#### Wigner's Circuit "
   ]
  },
  {
   "cell_type": "code",
   "execution_count": 9,
   "id": "9319dad4-3177-438f-89b9-58531bf9d2b9",
   "metadata": {},
   "outputs": [
    {
     "data": {
      "image/png": "[encoded data removed]",
      "text/plain": [
       "<Figure size 483.818x204.68 with 1 Axes>"
      ]
     },
     "metadata": {},
     "output_type": "display_data"
    }
   ],
   "source": [
    "system_bit = q.QuantumRegister(1,name='SystemQubit')\n",
    "wigners_friend = q.QuantumRegister(1,name='Wigner\\'s Friend')\n",
    "classical_register = q.ClassicalRegister(1,name='Winger\\'s friend outcom')\n",
    "qc = q.QuantumCircuit(system_bit,wigners_friend,classical_register)\n",
    "qc.h(system_bit[0])\n",
    "qc.cx(system_bit[0],wigners_friend[0])\n",
    "qc.measure(wigners_friend[0],classical_register[0])\n",
    "disp(qc.draw('mpl'))"
   ]
  },
  {
   "cell_type": "code",
   "execution_count": 10,
   "id": "ee1becf3-aff6-4941-b870-fc09cd9e4fe8",
   "metadata": {},
   "outputs": [
    {
     "data": {
      "text/latex": [
       "$$ |00\\rangle$$"
      ],
      "text/plain": [
       "<IPython.core.display.Latex object>"
      ]
     },
     "metadata": {},
     "output_type": "display_data"
    },
    {
     "name": "stdout",
     "output_type": "stream",
     "text": [
      "Wigner's Friend's Outcome : {'1': 514, '0': 510}\n"
     ]
    },
    {
     "data": {
      "image/png": "[encoded data removed]",
      "text/plain": [
       "<Figure size 504x360 with 1 Axes>"
      ]
     },
     "metadata": {},
     "output_type": "display_data"
    }
   ],
   "source": [
    "counts = aer_sim.run(qc).result().get_counts()\n",
    "sv =sv_sim.run(qc).result().get_statevector()\n",
    "disp(sv.draw('latex'))\n",
    "print(f\"Wigner's Friend's Outcome : {counts}\")\n",
    "disp(plot_histogram(counts))"
   ]
  },
  {
   "cell_type": "code",
   "execution_count": null,
   "id": "557ff5a0-7126-4505-9338-fd9f03ab6fcd",
   "metadata": {},
   "outputs": [],
   "source": []
  },
  {
   "cell_type": "markdown",
   "id": "ebd16c5f-7ee2-4acf-b29d-37f6e72f892f",
   "metadata": {},
   "source": [
    "## 3. Testing of Collaps:Irreversible Quantum Measurement "
   ]
  },
  {
   "cell_type": "code",
   "execution_count": 11,
   "id": "e7d8fe71-a4a8-4cc8-b818-475f488e83cb",
   "metadata": {},
   "outputs": [
    {
     "data": {
      "text/plain": [
       "<qiskit.circuit.instructionset.InstructionSet at 0x1d918325570>"
      ]
     },
     "execution_count": 11,
     "metadata": {},
     "output_type": "execute_result"
    }
   ],
   "source": [
    "qr_qubit = q.QuantumRegister(1,name='Qubit')\n",
    "qr_observer = q.QuantumRegister(1,name='Observer')\n",
    "qr_record = q.QuantumRegister(1,name= 'Record')\n",
    "qc = q.QuantumCircuit(qr_qubit,qr_observer,qr_record)\n",
    "qc.h(qr_qubit) "
   ]
  },
  {
   "cell_type": "code",
   "execution_count": null,
   "id": "6c202943-5603-4337-89ca-3c234be9f4b7",
   "metadata": {},
   "outputs": [],
   "source": []
  },
  {
   "cell_type": "code",
   "execution_count": null,
   "id": "4c7ea24b-eb0a-4ff3-8b8f-8393f6936b20",
   "metadata": {},
   "outputs": [],
   "source": []
  },
  {
   "cell_type": "code",
   "execution_count": null,
   "id": "8301f0bf-cb4c-46c9-a06b-95bafcd2516a",
   "metadata": {},
   "outputs": [],
   "source": []
  },
  {
   "cell_type": "code",
   "execution_count": null,
   "id": "7fe86f89-6d53-4431-98ca-0b340de2b885",
   "metadata": {},
   "outputs": [],
   "source": []
  },
  {
   "cell_type": "code",
   "execution_count": null,
   "id": "93f177e9-63e1-4d82-9081-b3a92f983eb5",
   "metadata": {},
   "outputs": [],
   "source": []
  },
  {
   "cell_type": "code",
   "execution_count": null,
   "id": "633e3497-d356-4358-9d69-a7033b399fa8",
   "metadata": {},
   "outputs": [],
   "source": []
  }
 ],
 "metadata": {
  "kernelspec": {
   "display_name": "Python 3 (Spyder)",
   "language": "python3",
   "name": "python3"
  },
  "language_info": {
   "codemirror_mode": {
    "name": "ipython",
    "version": 3
   },
   "file_extension": ".py",
   "mimetype": "text/x-python",
   "name": "python",
   "nbconvert_exporter": "python",
   "pygments_lexer": "ipython3",
   "version": "3.11.7"
  }
 },
 "nbformat": 4,
 "nbformat_minor": 5
}
